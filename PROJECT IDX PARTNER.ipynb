{
 "cells": [
  {
   "cell_type": "markdown",
   "id": "79c0aa2f",
   "metadata": {},
   "source": [
    "# IMPORT LIBRARY PYTHON"
   ]
  },
  {
   "cell_type": "code",
   "execution_count": 79,
   "id": "09b2b505",
   "metadata": {},
   "outputs": [],
   "source": [
    "# Data preparation dan manipulation\n",
    "import numpy as np\n",
    "import pandas as pd\n",
    "# Data Visualisasi\n",
    "import matplotlib.pyplot as plt\n",
    "import seaborn as sns\n",
    "\n",
    "# untuk implementasi pipeline\n",
    "from sklearn.pipeline import Pipeline\n",
    "\n",
    "# Scaling data\n",
    "from sklearn.preprocessing import StandardScaler\n",
    "\n",
    "# model Classification\n",
    "from sklearn.neighbors import KNeighborsClassifier\n",
    "\n",
    "# Splitting data dan Validation\n",
    "from sklearn.model_selection import train_test_split\n",
    "\n",
    "# membuat model machine learning\n",
    "from sklearn.linear_model import LogisticRegression\n",
    "from sklearn.tree import DecisionTreeClassifier\n",
    "from sklearn.ensemble import RandomForestClassifier\n",
    "\n",
    "# Principal Component Analysis for Dimensionality Reduction\n",
    "from sklearn.decomposition import PCA\n",
    "\n",
    "# Shuffling the DataFrame\n",
    "from sklearn.utils import shuffle\n",
    "\n",
    "from sklearn.metrics import classification_report\n",
    "from sklearn.metrics import confusion_matrix\n",
    "from sklearn.metrics import ConfusionMatrixDisplay\n",
    "from sklearn.preprocessing import LabelEncoder\n",
    "from sklearn.preprocessing import StandardScaler"
   ]
  },
  {
   "cell_type": "code",
   "execution_count": 2,
   "id": "8a73f85b",
   "metadata": {},
   "outputs": [
    {
     "name": "stderr",
     "output_type": "stream",
     "text": [
      "C:\\Users\\ASUS\\AppData\\Local\\Temp\\ipykernel_15352\\314650078.py:2: DtypeWarning: Columns (20) have mixed types. Specify dtype option on import or set low_memory=False.\n",
      "  df = pd.read_csv(\"C:/Users/ASUS/Downloads/VIRTUAL INTERNSHIP ID-X PARTNERS/MINGGU 4/loan_data_2007_2014.csv\")\n"
     ]
    }
   ],
   "source": [
    "# proses pemanggilan data\n",
    "df = pd.read_csv(\"C:/Users/ASUS/Downloads/VIRTUAL INTERNSHIP ID-X PARTNERS/MINGGU 4/loan_data_2007_2014.csv\")"
   ]
  },
  {
   "cell_type": "markdown",
   "id": "2c42dc78",
   "metadata": {},
   "source": [
    "# DATA UNDERSTANDING"
   ]
  },
  {
   "cell_type": "code",
   "execution_count": 3,
   "id": "ed1350c4",
   "metadata": {},
   "outputs": [
    {
     "data": {
      "text/html": [
       "<div>\n",
       "<style scoped>\n",
       "    .dataframe tbody tr th:only-of-type {\n",
       "        vertical-align: middle;\n",
       "    }\n",
       "\n",
       "    .dataframe tbody tr th {\n",
       "        vertical-align: top;\n",
       "    }\n",
       "\n",
       "    .dataframe thead th {\n",
       "        text-align: right;\n",
       "    }\n",
       "</style>\n",
       "<table border=\"1\" class=\"dataframe\">\n",
       "  <thead>\n",
       "    <tr style=\"text-align: right;\">\n",
       "      <th></th>\n",
       "      <th>Unnamed: 0</th>\n",
       "      <th>id</th>\n",
       "      <th>member_id</th>\n",
       "      <th>loan_amnt</th>\n",
       "      <th>funded_amnt</th>\n",
       "      <th>funded_amnt_inv</th>\n",
       "      <th>term</th>\n",
       "      <th>int_rate</th>\n",
       "      <th>installment</th>\n",
       "      <th>grade</th>\n",
       "      <th>...</th>\n",
       "      <th>total_bal_il</th>\n",
       "      <th>il_util</th>\n",
       "      <th>open_rv_12m</th>\n",
       "      <th>open_rv_24m</th>\n",
       "      <th>max_bal_bc</th>\n",
       "      <th>all_util</th>\n",
       "      <th>total_rev_hi_lim</th>\n",
       "      <th>inq_fi</th>\n",
       "      <th>total_cu_tl</th>\n",
       "      <th>inq_last_12m</th>\n",
       "    </tr>\n",
       "  </thead>\n",
       "  <tbody>\n",
       "    <tr>\n",
       "      <th>0</th>\n",
       "      <td>0</td>\n",
       "      <td>1077501</td>\n",
       "      <td>1296599</td>\n",
       "      <td>5000</td>\n",
       "      <td>5000</td>\n",
       "      <td>4975.0</td>\n",
       "      <td>36 months</td>\n",
       "      <td>10.65</td>\n",
       "      <td>162.87</td>\n",
       "      <td>B</td>\n",
       "      <td>...</td>\n",
       "      <td>NaN</td>\n",
       "      <td>NaN</td>\n",
       "      <td>NaN</td>\n",
       "      <td>NaN</td>\n",
       "      <td>NaN</td>\n",
       "      <td>NaN</td>\n",
       "      <td>NaN</td>\n",
       "      <td>NaN</td>\n",
       "      <td>NaN</td>\n",
       "      <td>NaN</td>\n",
       "    </tr>\n",
       "    <tr>\n",
       "      <th>1</th>\n",
       "      <td>1</td>\n",
       "      <td>1077430</td>\n",
       "      <td>1314167</td>\n",
       "      <td>2500</td>\n",
       "      <td>2500</td>\n",
       "      <td>2500.0</td>\n",
       "      <td>60 months</td>\n",
       "      <td>15.27</td>\n",
       "      <td>59.83</td>\n",
       "      <td>C</td>\n",
       "      <td>...</td>\n",
       "      <td>NaN</td>\n",
       "      <td>NaN</td>\n",
       "      <td>NaN</td>\n",
       "      <td>NaN</td>\n",
       "      <td>NaN</td>\n",
       "      <td>NaN</td>\n",
       "      <td>NaN</td>\n",
       "      <td>NaN</td>\n",
       "      <td>NaN</td>\n",
       "      <td>NaN</td>\n",
       "    </tr>\n",
       "    <tr>\n",
       "      <th>2</th>\n",
       "      <td>2</td>\n",
       "      <td>1077175</td>\n",
       "      <td>1313524</td>\n",
       "      <td>2400</td>\n",
       "      <td>2400</td>\n",
       "      <td>2400.0</td>\n",
       "      <td>36 months</td>\n",
       "      <td>15.96</td>\n",
       "      <td>84.33</td>\n",
       "      <td>C</td>\n",
       "      <td>...</td>\n",
       "      <td>NaN</td>\n",
       "      <td>NaN</td>\n",
       "      <td>NaN</td>\n",
       "      <td>NaN</td>\n",
       "      <td>NaN</td>\n",
       "      <td>NaN</td>\n",
       "      <td>NaN</td>\n",
       "      <td>NaN</td>\n",
       "      <td>NaN</td>\n",
       "      <td>NaN</td>\n",
       "    </tr>\n",
       "    <tr>\n",
       "      <th>3</th>\n",
       "      <td>3</td>\n",
       "      <td>1076863</td>\n",
       "      <td>1277178</td>\n",
       "      <td>10000</td>\n",
       "      <td>10000</td>\n",
       "      <td>10000.0</td>\n",
       "      <td>36 months</td>\n",
       "      <td>13.49</td>\n",
       "      <td>339.31</td>\n",
       "      <td>C</td>\n",
       "      <td>...</td>\n",
       "      <td>NaN</td>\n",
       "      <td>NaN</td>\n",
       "      <td>NaN</td>\n",
       "      <td>NaN</td>\n",
       "      <td>NaN</td>\n",
       "      <td>NaN</td>\n",
       "      <td>NaN</td>\n",
       "      <td>NaN</td>\n",
       "      <td>NaN</td>\n",
       "      <td>NaN</td>\n",
       "    </tr>\n",
       "    <tr>\n",
       "      <th>4</th>\n",
       "      <td>4</td>\n",
       "      <td>1075358</td>\n",
       "      <td>1311748</td>\n",
       "      <td>3000</td>\n",
       "      <td>3000</td>\n",
       "      <td>3000.0</td>\n",
       "      <td>60 months</td>\n",
       "      <td>12.69</td>\n",
       "      <td>67.79</td>\n",
       "      <td>B</td>\n",
       "      <td>...</td>\n",
       "      <td>NaN</td>\n",
       "      <td>NaN</td>\n",
       "      <td>NaN</td>\n",
       "      <td>NaN</td>\n",
       "      <td>NaN</td>\n",
       "      <td>NaN</td>\n",
       "      <td>NaN</td>\n",
       "      <td>NaN</td>\n",
       "      <td>NaN</td>\n",
       "      <td>NaN</td>\n",
       "    </tr>\n",
       "  </tbody>\n",
       "</table>\n",
       "<p>5 rows × 75 columns</p>\n",
       "</div>"
      ],
      "text/plain": [
       "   Unnamed: 0       id  member_id  loan_amnt  funded_amnt  funded_amnt_inv  \\\n",
       "0           0  1077501    1296599       5000         5000           4975.0   \n",
       "1           1  1077430    1314167       2500         2500           2500.0   \n",
       "2           2  1077175    1313524       2400         2400           2400.0   \n",
       "3           3  1076863    1277178      10000        10000          10000.0   \n",
       "4           4  1075358    1311748       3000         3000           3000.0   \n",
       "\n",
       "         term  int_rate  installment grade  ... total_bal_il il_util  \\\n",
       "0   36 months     10.65       162.87     B  ...          NaN     NaN   \n",
       "1   60 months     15.27        59.83     C  ...          NaN     NaN   \n",
       "2   36 months     15.96        84.33     C  ...          NaN     NaN   \n",
       "3   36 months     13.49       339.31     C  ...          NaN     NaN   \n",
       "4   60 months     12.69        67.79     B  ...          NaN     NaN   \n",
       "\n",
       "  open_rv_12m open_rv_24m  max_bal_bc all_util total_rev_hi_lim inq_fi  \\\n",
       "0         NaN         NaN         NaN      NaN              NaN    NaN   \n",
       "1         NaN         NaN         NaN      NaN              NaN    NaN   \n",
       "2         NaN         NaN         NaN      NaN              NaN    NaN   \n",
       "3         NaN         NaN         NaN      NaN              NaN    NaN   \n",
       "4         NaN         NaN         NaN      NaN              NaN    NaN   \n",
       "\n",
       "  total_cu_tl inq_last_12m  \n",
       "0         NaN          NaN  \n",
       "1         NaN          NaN  \n",
       "2         NaN          NaN  \n",
       "3         NaN          NaN  \n",
       "4         NaN          NaN  \n",
       "\n",
       "[5 rows x 75 columns]"
      ]
     },
     "execution_count": 3,
     "metadata": {},
     "output_type": "execute_result"
    }
   ],
   "source": [
    "df.head(5)"
   ]
  },
  {
   "cell_type": "code",
   "execution_count": 4,
   "id": "4348717a",
   "metadata": {},
   "outputs": [
    {
     "data": {
      "text/plain": [
       "(466285, 75)"
      ]
     },
     "execution_count": 4,
     "metadata": {},
     "output_type": "execute_result"
    }
   ],
   "source": [
    "df.shape"
   ]
  },
  {
   "cell_type": "code",
   "execution_count": 5,
   "id": "45811a7a",
   "metadata": {},
   "outputs": [
    {
     "data": {
      "text/plain": [
       "Unnamed: 0               0\n",
       "id                       0\n",
       "member_id                0\n",
       "loan_amnt                0\n",
       "funded_amnt              0\n",
       "                     ...  \n",
       "all_util            466285\n",
       "total_rev_hi_lim     70276\n",
       "inq_fi              466285\n",
       "total_cu_tl         466285\n",
       "inq_last_12m        466285\n",
       "Length: 75, dtype: int64"
      ]
     },
     "execution_count": 5,
     "metadata": {},
     "output_type": "execute_result"
    }
   ],
   "source": [
    "df.isnull().sum()"
   ]
  },
  {
   "cell_type": "code",
   "execution_count": 6,
   "id": "c2c0752c",
   "metadata": {},
   "outputs": [
    {
     "data": {
      "text/html": [
       "<div>\n",
       "<style scoped>\n",
       "    .dataframe tbody tr th:only-of-type {\n",
       "        vertical-align: middle;\n",
       "    }\n",
       "\n",
       "    .dataframe tbody tr th {\n",
       "        vertical-align: top;\n",
       "    }\n",
       "\n",
       "    .dataframe thead th {\n",
       "        text-align: right;\n",
       "    }\n",
       "</style>\n",
       "<table border=\"1\" class=\"dataframe\">\n",
       "  <thead>\n",
       "    <tr style=\"text-align: right;\">\n",
       "      <th></th>\n",
       "      <th>Unnamed: 0</th>\n",
       "      <th>id</th>\n",
       "      <th>member_id</th>\n",
       "      <th>loan_amnt</th>\n",
       "      <th>funded_amnt</th>\n",
       "      <th>funded_amnt_inv</th>\n",
       "      <th>int_rate</th>\n",
       "      <th>installment</th>\n",
       "      <th>annual_inc</th>\n",
       "      <th>dti</th>\n",
       "      <th>...</th>\n",
       "      <th>total_bal_il</th>\n",
       "      <th>il_util</th>\n",
       "      <th>open_rv_12m</th>\n",
       "      <th>open_rv_24m</th>\n",
       "      <th>max_bal_bc</th>\n",
       "      <th>all_util</th>\n",
       "      <th>total_rev_hi_lim</th>\n",
       "      <th>inq_fi</th>\n",
       "      <th>total_cu_tl</th>\n",
       "      <th>inq_last_12m</th>\n",
       "    </tr>\n",
       "  </thead>\n",
       "  <tbody>\n",
       "    <tr>\n",
       "      <th>count</th>\n",
       "      <td>466285.000000</td>\n",
       "      <td>4.662850e+05</td>\n",
       "      <td>4.662850e+05</td>\n",
       "      <td>466285.000000</td>\n",
       "      <td>466285.000000</td>\n",
       "      <td>466285.000000</td>\n",
       "      <td>466285.000000</td>\n",
       "      <td>466285.000000</td>\n",
       "      <td>4.662810e+05</td>\n",
       "      <td>466285.000000</td>\n",
       "      <td>...</td>\n",
       "      <td>0.0</td>\n",
       "      <td>0.0</td>\n",
       "      <td>0.0</td>\n",
       "      <td>0.0</td>\n",
       "      <td>0.0</td>\n",
       "      <td>0.0</td>\n",
       "      <td>3.960090e+05</td>\n",
       "      <td>0.0</td>\n",
       "      <td>0.0</td>\n",
       "      <td>0.0</td>\n",
       "    </tr>\n",
       "    <tr>\n",
       "      <th>mean</th>\n",
       "      <td>233142.000000</td>\n",
       "      <td>1.307973e+07</td>\n",
       "      <td>1.459766e+07</td>\n",
       "      <td>14317.277577</td>\n",
       "      <td>14291.801044</td>\n",
       "      <td>14222.329888</td>\n",
       "      <td>13.829236</td>\n",
       "      <td>432.061201</td>\n",
       "      <td>7.327738e+04</td>\n",
       "      <td>17.218758</td>\n",
       "      <td>...</td>\n",
       "      <td>NaN</td>\n",
       "      <td>NaN</td>\n",
       "      <td>NaN</td>\n",
       "      <td>NaN</td>\n",
       "      <td>NaN</td>\n",
       "      <td>NaN</td>\n",
       "      <td>3.037909e+04</td>\n",
       "      <td>NaN</td>\n",
       "      <td>NaN</td>\n",
       "      <td>NaN</td>\n",
       "    </tr>\n",
       "    <tr>\n",
       "      <th>std</th>\n",
       "      <td>134605.029472</td>\n",
       "      <td>1.089371e+07</td>\n",
       "      <td>1.168237e+07</td>\n",
       "      <td>8286.509164</td>\n",
       "      <td>8274.371300</td>\n",
       "      <td>8297.637788</td>\n",
       "      <td>4.357587</td>\n",
       "      <td>243.485550</td>\n",
       "      <td>5.496357e+04</td>\n",
       "      <td>7.851121</td>\n",
       "      <td>...</td>\n",
       "      <td>NaN</td>\n",
       "      <td>NaN</td>\n",
       "      <td>NaN</td>\n",
       "      <td>NaN</td>\n",
       "      <td>NaN</td>\n",
       "      <td>NaN</td>\n",
       "      <td>3.724713e+04</td>\n",
       "      <td>NaN</td>\n",
       "      <td>NaN</td>\n",
       "      <td>NaN</td>\n",
       "    </tr>\n",
       "    <tr>\n",
       "      <th>min</th>\n",
       "      <td>0.000000</td>\n",
       "      <td>5.473400e+04</td>\n",
       "      <td>7.047300e+04</td>\n",
       "      <td>500.000000</td>\n",
       "      <td>500.000000</td>\n",
       "      <td>0.000000</td>\n",
       "      <td>5.420000</td>\n",
       "      <td>15.670000</td>\n",
       "      <td>1.896000e+03</td>\n",
       "      <td>0.000000</td>\n",
       "      <td>...</td>\n",
       "      <td>NaN</td>\n",
       "      <td>NaN</td>\n",
       "      <td>NaN</td>\n",
       "      <td>NaN</td>\n",
       "      <td>NaN</td>\n",
       "      <td>NaN</td>\n",
       "      <td>0.000000e+00</td>\n",
       "      <td>NaN</td>\n",
       "      <td>NaN</td>\n",
       "      <td>NaN</td>\n",
       "    </tr>\n",
       "    <tr>\n",
       "      <th>25%</th>\n",
       "      <td>116571.000000</td>\n",
       "      <td>3.639987e+06</td>\n",
       "      <td>4.379705e+06</td>\n",
       "      <td>8000.000000</td>\n",
       "      <td>8000.000000</td>\n",
       "      <td>8000.000000</td>\n",
       "      <td>10.990000</td>\n",
       "      <td>256.690000</td>\n",
       "      <td>4.500000e+04</td>\n",
       "      <td>11.360000</td>\n",
       "      <td>...</td>\n",
       "      <td>NaN</td>\n",
       "      <td>NaN</td>\n",
       "      <td>NaN</td>\n",
       "      <td>NaN</td>\n",
       "      <td>NaN</td>\n",
       "      <td>NaN</td>\n",
       "      <td>1.350000e+04</td>\n",
       "      <td>NaN</td>\n",
       "      <td>NaN</td>\n",
       "      <td>NaN</td>\n",
       "    </tr>\n",
       "    <tr>\n",
       "      <th>50%</th>\n",
       "      <td>233142.000000</td>\n",
       "      <td>1.010790e+07</td>\n",
       "      <td>1.194108e+07</td>\n",
       "      <td>12000.000000</td>\n",
       "      <td>12000.000000</td>\n",
       "      <td>12000.000000</td>\n",
       "      <td>13.660000</td>\n",
       "      <td>379.890000</td>\n",
       "      <td>6.300000e+04</td>\n",
       "      <td>16.870000</td>\n",
       "      <td>...</td>\n",
       "      <td>NaN</td>\n",
       "      <td>NaN</td>\n",
       "      <td>NaN</td>\n",
       "      <td>NaN</td>\n",
       "      <td>NaN</td>\n",
       "      <td>NaN</td>\n",
       "      <td>2.280000e+04</td>\n",
       "      <td>NaN</td>\n",
       "      <td>NaN</td>\n",
       "      <td>NaN</td>\n",
       "    </tr>\n",
       "    <tr>\n",
       "      <th>75%</th>\n",
       "      <td>349713.000000</td>\n",
       "      <td>2.073121e+07</td>\n",
       "      <td>2.300154e+07</td>\n",
       "      <td>20000.000000</td>\n",
       "      <td>20000.000000</td>\n",
       "      <td>19950.000000</td>\n",
       "      <td>16.490000</td>\n",
       "      <td>566.580000</td>\n",
       "      <td>8.896000e+04</td>\n",
       "      <td>22.780000</td>\n",
       "      <td>...</td>\n",
       "      <td>NaN</td>\n",
       "      <td>NaN</td>\n",
       "      <td>NaN</td>\n",
       "      <td>NaN</td>\n",
       "      <td>NaN</td>\n",
       "      <td>NaN</td>\n",
       "      <td>3.790000e+04</td>\n",
       "      <td>NaN</td>\n",
       "      <td>NaN</td>\n",
       "      <td>NaN</td>\n",
       "    </tr>\n",
       "    <tr>\n",
       "      <th>max</th>\n",
       "      <td>466284.000000</td>\n",
       "      <td>3.809811e+07</td>\n",
       "      <td>4.086083e+07</td>\n",
       "      <td>35000.000000</td>\n",
       "      <td>35000.000000</td>\n",
       "      <td>35000.000000</td>\n",
       "      <td>26.060000</td>\n",
       "      <td>1409.990000</td>\n",
       "      <td>7.500000e+06</td>\n",
       "      <td>39.990000</td>\n",
       "      <td>...</td>\n",
       "      <td>NaN</td>\n",
       "      <td>NaN</td>\n",
       "      <td>NaN</td>\n",
       "      <td>NaN</td>\n",
       "      <td>NaN</td>\n",
       "      <td>NaN</td>\n",
       "      <td>9.999999e+06</td>\n",
       "      <td>NaN</td>\n",
       "      <td>NaN</td>\n",
       "      <td>NaN</td>\n",
       "    </tr>\n",
       "  </tbody>\n",
       "</table>\n",
       "<p>8 rows × 53 columns</p>\n",
       "</div>"
      ],
      "text/plain": [
       "          Unnamed: 0            id     member_id      loan_amnt  \\\n",
       "count  466285.000000  4.662850e+05  4.662850e+05  466285.000000   \n",
       "mean   233142.000000  1.307973e+07  1.459766e+07   14317.277577   \n",
       "std    134605.029472  1.089371e+07  1.168237e+07    8286.509164   \n",
       "min         0.000000  5.473400e+04  7.047300e+04     500.000000   \n",
       "25%    116571.000000  3.639987e+06  4.379705e+06    8000.000000   \n",
       "50%    233142.000000  1.010790e+07  1.194108e+07   12000.000000   \n",
       "75%    349713.000000  2.073121e+07  2.300154e+07   20000.000000   \n",
       "max    466284.000000  3.809811e+07  4.086083e+07   35000.000000   \n",
       "\n",
       "         funded_amnt  funded_amnt_inv       int_rate    installment  \\\n",
       "count  466285.000000    466285.000000  466285.000000  466285.000000   \n",
       "mean    14291.801044     14222.329888      13.829236     432.061201   \n",
       "std      8274.371300      8297.637788       4.357587     243.485550   \n",
       "min       500.000000         0.000000       5.420000      15.670000   \n",
       "25%      8000.000000      8000.000000      10.990000     256.690000   \n",
       "50%     12000.000000     12000.000000      13.660000     379.890000   \n",
       "75%     20000.000000     19950.000000      16.490000     566.580000   \n",
       "max     35000.000000     35000.000000      26.060000    1409.990000   \n",
       "\n",
       "         annual_inc            dti  ...  total_bal_il  il_util  open_rv_12m  \\\n",
       "count  4.662810e+05  466285.000000  ...           0.0      0.0          0.0   \n",
       "mean   7.327738e+04      17.218758  ...           NaN      NaN          NaN   \n",
       "std    5.496357e+04       7.851121  ...           NaN      NaN          NaN   \n",
       "min    1.896000e+03       0.000000  ...           NaN      NaN          NaN   \n",
       "25%    4.500000e+04      11.360000  ...           NaN      NaN          NaN   \n",
       "50%    6.300000e+04      16.870000  ...           NaN      NaN          NaN   \n",
       "75%    8.896000e+04      22.780000  ...           NaN      NaN          NaN   \n",
       "max    7.500000e+06      39.990000  ...           NaN      NaN          NaN   \n",
       "\n",
       "       open_rv_24m  max_bal_bc  all_util  total_rev_hi_lim  inq_fi  \\\n",
       "count          0.0         0.0       0.0      3.960090e+05     0.0   \n",
       "mean           NaN         NaN       NaN      3.037909e+04     NaN   \n",
       "std            NaN         NaN       NaN      3.724713e+04     NaN   \n",
       "min            NaN         NaN       NaN      0.000000e+00     NaN   \n",
       "25%            NaN         NaN       NaN      1.350000e+04     NaN   \n",
       "50%            NaN         NaN       NaN      2.280000e+04     NaN   \n",
       "75%            NaN         NaN       NaN      3.790000e+04     NaN   \n",
       "max            NaN         NaN       NaN      9.999999e+06     NaN   \n",
       "\n",
       "       total_cu_tl  inq_last_12m  \n",
       "count          0.0           0.0  \n",
       "mean           NaN           NaN  \n",
       "std            NaN           NaN  \n",
       "min            NaN           NaN  \n",
       "25%            NaN           NaN  \n",
       "50%            NaN           NaN  \n",
       "75%            NaN           NaN  \n",
       "max            NaN           NaN  \n",
       "\n",
       "[8 rows x 53 columns]"
      ]
     },
     "execution_count": 6,
     "metadata": {},
     "output_type": "execute_result"
    }
   ],
   "source": [
    "df.describe()"
   ]
  },
  {
   "cell_type": "code",
   "execution_count": 7,
   "id": "60877746",
   "metadata": {},
   "outputs": [
    {
     "data": {
      "text/plain": [
       "Unnamed: 0            int64\n",
       "id                    int64\n",
       "member_id             int64\n",
       "loan_amnt             int64\n",
       "funded_amnt           int64\n",
       "                     ...   \n",
       "all_util            float64\n",
       "total_rev_hi_lim    float64\n",
       "inq_fi              float64\n",
       "total_cu_tl         float64\n",
       "inq_last_12m        float64\n",
       "Length: 75, dtype: object"
      ]
     },
     "execution_count": 7,
     "metadata": {},
     "output_type": "execute_result"
    }
   ],
   "source": [
    "df.dtypes"
   ]
  },
  {
   "cell_type": "code",
   "execution_count": 8,
   "id": "3f647f5a",
   "metadata": {},
   "outputs": [],
   "source": [
    "#sns.heatmap(df.isnull(), cbar = True, cmap = 'cool')"
   ]
  },
  {
   "cell_type": "markdown",
   "id": "ab8a2ea9",
   "metadata": {},
   "source": [
    "# DATA CLEANING AND PREPARATION"
   ]
  },
  {
   "cell_type": "code",
   "execution_count": 9,
   "id": "7e220d79",
   "metadata": {},
   "outputs": [
    {
     "data": {
      "text/plain": [
       "dti_joint                      100.000000\n",
       "annual_inc_joint               100.000000\n",
       "total_cu_tl                    100.000000\n",
       "inq_fi                         100.000000\n",
       "all_util                       100.000000\n",
       "max_bal_bc                     100.000000\n",
       "open_rv_24m                    100.000000\n",
       "open_rv_12m                    100.000000\n",
       "il_util                        100.000000\n",
       "total_bal_il                   100.000000\n",
       "mths_since_rcnt_il             100.000000\n",
       "open_il_24m                    100.000000\n",
       "open_il_12m                    100.000000\n",
       "open_il_6m                     100.000000\n",
       "open_acc_6m                    100.000000\n",
       "verification_status_joint      100.000000\n",
       "inq_last_12m                   100.000000\n",
       "mths_since_last_record          86.566585\n",
       "mths_since_last_major_derog     78.773926\n",
       "desc                            72.981546\n",
       "mths_since_last_delinq          53.690554\n",
       "next_pymnt_d                    48.728567\n",
       "total_rev_hi_lim                15.071469\n",
       "tot_coll_amt                    15.071469\n",
       "tot_cur_bal                     15.071469\n",
       "emp_title                        5.916553\n",
       "emp_length                       4.505399\n",
       "last_pymnt_d                     0.080637\n",
       "revol_util                       0.072917\n",
       "collections_12_mths_ex_med       0.031097\n",
       "last_credit_pull_d               0.009007\n",
       "open_acc                         0.006219\n",
       "total_acc                        0.006219\n",
       "inq_last_6mths                   0.006219\n",
       "earliest_cr_line                 0.006219\n",
       "delinq_2yrs                      0.006219\n",
       "acc_now_delinq                   0.006219\n",
       "pub_rec                          0.006219\n",
       "title                            0.004289\n",
       "annual_inc                       0.000858\n",
       "dtype: float64"
      ]
     },
     "execution_count": 9,
     "metadata": {},
     "output_type": "execute_result"
    }
   ],
   "source": [
    "check_missing = df.isnull().sum() * 100/ df.shape[0]\n",
    "check_missing[check_missing > 0].sort_values(ascending=False)"
   ]
  },
  {
   "cell_type": "markdown",
   "id": "1582a737",
   "metadata": {},
   "source": [
    "# DROP ATRIBUT YANG MEMPUNYAI MISSING VALUE LEBIH DARI 30%"
   ]
  },
  {
   "cell_type": "code",
   "execution_count": 10,
   "id": "a5843529",
   "metadata": {},
   "outputs": [
    {
     "data": {
      "text/plain": [
       "open_il_24m                    100.000000\n",
       "mths_since_rcnt_il             100.000000\n",
       "total_cu_tl                    100.000000\n",
       "inq_fi                         100.000000\n",
       "all_util                       100.000000\n",
       "max_bal_bc                     100.000000\n",
       "open_rv_24m                    100.000000\n",
       "open_rv_12m                    100.000000\n",
       "il_util                        100.000000\n",
       "total_bal_il                   100.000000\n",
       "inq_last_12m                   100.000000\n",
       "open_il_12m                    100.000000\n",
       "open_il_6m                     100.000000\n",
       "open_acc_6m                    100.000000\n",
       "verification_status_joint      100.000000\n",
       "dti_joint                      100.000000\n",
       "annual_inc_joint               100.000000\n",
       "mths_since_last_record          86.566585\n",
       "mths_since_last_major_derog     78.773926\n",
       "desc                            72.981546\n",
       "mths_since_last_delinq          53.690554\n",
       "next_pymnt_d                    48.728567\n",
       "dtype: float64"
      ]
     },
     "execution_count": 10,
     "metadata": {},
     "output_type": "execute_result"
    }
   ],
   "source": [
    "high_miss = check_missing[check_missing > 30]\n",
    "high_miss.sort_values(ascending=False)"
   ]
  },
  {
   "cell_type": "code",
   "execution_count": 11,
   "id": "222160dd",
   "metadata": {},
   "outputs": [],
   "source": [
    "atribut_to_drop = [\n",
    "    'open_il_24m',\n",
    "    'mths_since_rcnt_il',\n",
    "    'total_cu_tl',\n",
    "    'inq_fi',\n",
    "    'all_util',\n",
    "    'max_bal_bc',\n",
    "    'open_rv_24m',\n",
    "    'open_rv_12m',\n",
    "    'il_util',\n",
    "    'total_bal_il',\n",
    "    'inq_last_12m',\n",
    "    'open_il_12m',\n",
    "    'open_il_6m',\n",
    "    'open_acc_6m',\n",
    "    'verification_status_joint',\n",
    "    'dti_joint',\n",
    "    'annual_inc_joint',\n",
    "    'mths_since_last_record',\n",
    "    'mths_since_last_major_derog',\n",
    "    'desc',\n",
    "    'mths_since_last_delinq',\n",
    "    'next_pymnt_d'\n",
    "]"
   ]
  },
  {
   "cell_type": "code",
   "execution_count": 12,
   "id": "a34cfa81",
   "metadata": {},
   "outputs": [
    {
     "data": {
      "text/plain": [
       "(466285, 53)"
      ]
     },
     "execution_count": 12,
     "metadata": {},
     "output_type": "execute_result"
    }
   ],
   "source": [
    "df.drop(columns=atribut_to_drop, inplace=True)\n",
    "df.shape"
   ]
  },
  {
   "cell_type": "code",
   "execution_count": 13,
   "id": "fda4633f",
   "metadata": {},
   "outputs": [
    {
     "data": {
      "text/plain": [
       "term                        2\n",
       "grade                       7\n",
       "sub_grade                  35\n",
       "emp_title              205475\n",
       "emp_length                 11\n",
       "home_ownership              6\n",
       "verification_status         3\n",
       "issue_d                    91\n",
       "loan_status                 9\n",
       "pymnt_plan                  2\n",
       "url                    466285\n",
       "purpose                    14\n",
       "title                   63099\n",
       "zip_code                  888\n",
       "addr_state                 50\n",
       "earliest_cr_line          664\n",
       "initial_list_status         2\n",
       "last_pymnt_d               98\n",
       "last_credit_pull_d        103\n",
       "application_type            1\n",
       "dtype: int64"
      ]
     },
     "execution_count": 13,
     "metadata": {},
     "output_type": "execute_result"
    }
   ],
   "source": [
    "# drop atribut yang memiliki kategori yang banyak\n",
    "df.select_dtypes(include='object').nunique()"
   ]
  },
  {
   "cell_type": "code",
   "execution_count": 14,
   "id": "263089b2",
   "metadata": {},
   "outputs": [],
   "source": [
    "atribut_to_drop2 = [\n",
    "    'grade',\n",
    "    'sub_grade',\n",
    "    'emp_length',\n",
    "    'emp_title',\n",
    "    'issue_d',\n",
    "    'url',\n",
    "    'purpose',\n",
    "    'title',\n",
    "    'zip_code',\n",
    "    'addr_state',\n",
    "    'earliest_cr_line',\n",
    "    'last_credit_pull_d',\n",
    "    'initial_list_status',\n",
    "    'application_type',\n",
    "    'last_pymnt_d',\n",
    "    'Unnamed: 0',\n",
    "    'id',\n",
    "    'member_id'\n",
    "]"
   ]
  },
  {
   "cell_type": "code",
   "execution_count": 15,
   "id": "509e52af",
   "metadata": {},
   "outputs": [
    {
     "data": {
      "text/plain": [
       "(466285, 35)"
      ]
     },
     "execution_count": 15,
     "metadata": {},
     "output_type": "execute_result"
    }
   ],
   "source": [
    "df.drop(columns=atribut_to_drop2, inplace=True)\n",
    "df.shape"
   ]
  },
  {
   "cell_type": "markdown",
   "id": "ae86d855",
   "metadata": {},
   "source": [
    "# Drop Attributes that have high correlation on each other (above 0,8 correlation score)"
   ]
  },
  {
   "cell_type": "code",
   "execution_count": 16,
   "id": "4cef49c3",
   "metadata": {},
   "outputs": [
    {
     "name": "stderr",
     "output_type": "stream",
     "text": [
      "C:\\Users\\ASUS\\AppData\\Local\\Temp\\ipykernel_15352\\2967002656.py:2: DeprecationWarning: `np.bool` is a deprecated alias for the builtin `bool`. To silence this warning, use `bool` by itself. Doing this will not modify any behavior and is safe. If you specifically wanted the numpy scalar type, use `np.bool_` here.\n",
      "Deprecated in NumPy 1.20; for more details and guidance: https://numpy.org/devdocs/release/1.20.0-notes.html#deprecations\n",
      "  upper = corr_matrix.where(np.triu(np.ones(corr_matrix.shape), k=1).astype(np.bool))\n"
     ]
    },
    {
     "data": {
      "text/plain": [
       "['funded_amnt',\n",
       " 'funded_amnt_inv',\n",
       " 'installment',\n",
       " 'out_prncp_inv',\n",
       " 'total_pymnt_inv',\n",
       " 'total_rec_prncp',\n",
       " 'collection_recovery_fee',\n",
       " 'total_rev_hi_lim']"
      ]
     },
     "execution_count": 16,
     "metadata": {},
     "output_type": "execute_result"
    }
   ],
   "source": [
    "corr_matrix = df.corr().abs()\n",
    "upper = corr_matrix.where(np.triu(np.ones(corr_matrix.shape), k=1).astype(np.bool))\n",
    "to_drop_highcor = [column for column in upper.columns if any(upper[column] > 0.8)]\n",
    "to_drop_highcor"
   ]
  },
  {
   "cell_type": "code",
   "execution_count": 17,
   "id": "86f6856f",
   "metadata": {},
   "outputs": [],
   "source": [
    "atribut_to_drop3 = [\n",
    "    'funded_amnt',\n",
    "    'funded_amnt_inv',\n",
    "    'installment',\n",
    "    'out_prncp_inv',\n",
    "    'total_pymnt_inv',\n",
    "    'total_rec_prncp',\n",
    "    'collection_recovery_fee',\n",
    "    'total_rev_hi_lim',\n",
    "]"
   ]
  },
  {
   "cell_type": "code",
   "execution_count": 18,
   "id": "d837c1ba",
   "metadata": {},
   "outputs": [
    {
     "data": {
      "text/plain": [
       "(466285, 27)"
      ]
     },
     "execution_count": 18,
     "metadata": {},
     "output_type": "execute_result"
    }
   ],
   "source": [
    "df.drop(columns=atribut_to_drop3, inplace=True)\n",
    "df.shape"
   ]
  },
  {
   "cell_type": "code",
   "execution_count": 19,
   "id": "83514712",
   "metadata": {},
   "outputs": [
    {
     "data": {
      "text/plain": [
       "loan_amnt                         0\n",
       "term                              0\n",
       "int_rate                          0\n",
       "home_ownership                    0\n",
       "annual_inc                        4\n",
       "verification_status               0\n",
       "loan_status                       0\n",
       "pymnt_plan                        0\n",
       "dti                               0\n",
       "delinq_2yrs                      29\n",
       "inq_last_6mths                   29\n",
       "open_acc                         29\n",
       "pub_rec                          29\n",
       "revol_bal                         0\n",
       "revol_util                      340\n",
       "total_acc                        29\n",
       "out_prncp                         0\n",
       "total_pymnt                       0\n",
       "total_rec_int                     0\n",
       "total_rec_late_fee                0\n",
       "recoveries                        0\n",
       "last_pymnt_amnt                   0\n",
       "collections_12_mths_ex_med      145\n",
       "policy_code                       0\n",
       "acc_now_delinq                   29\n",
       "tot_coll_amt                  70276\n",
       "tot_cur_bal                   70276\n",
       "dtype: int64"
      ]
     },
     "execution_count": 19,
     "metadata": {},
     "output_type": "execute_result"
    }
   ],
   "source": [
    "df.isnull().sum()"
   ]
  },
  {
   "cell_type": "code",
   "execution_count": 20,
   "id": "bee68cce",
   "metadata": {},
   "outputs": [],
   "source": [
    "atribut_to_drop4 = [\n",
    "    'delinq_2yrs',\n",
    "    'inq_last_6mths',\n",
    "    'pub_rec',\n",
    "    'revol_util',\n",
    "    'collections_12_mths_ex_med',\n",
    "    'policy_code'\n",
    "]"
   ]
  },
  {
   "cell_type": "code",
   "execution_count": 21,
   "id": "12f678b1",
   "metadata": {},
   "outputs": [
    {
     "data": {
      "text/plain": [
       "(466285, 21)"
      ]
     },
     "execution_count": 21,
     "metadata": {},
     "output_type": "execute_result"
    }
   ],
   "source": [
    "df.drop(columns=atribut_to_drop4, inplace=True)\n",
    "df.shape"
   ]
  },
  {
   "cell_type": "code",
   "execution_count": 22,
   "id": "c81e2a81",
   "metadata": {},
   "outputs": [
    {
     "data": {
      "text/plain": [
       "(466285, 20)"
      ]
     },
     "execution_count": 22,
     "metadata": {},
     "output_type": "execute_result"
    }
   ],
   "source": [
    "df.drop(columns='pymnt_plan', inplace=True)\n",
    "df.shape"
   ]
  },
  {
   "cell_type": "code",
   "execution_count": 23,
   "id": "261ae566",
   "metadata": {},
   "outputs": [],
   "source": [
    "row_to_drop = df[df['tot_coll_amt'].isnull()].index\n",
    "df.drop(row_to_drop, axis = 0, inplace = True)"
   ]
  },
  {
   "cell_type": "code",
   "execution_count": 24,
   "id": "c12b8ba7",
   "metadata": {},
   "outputs": [
    {
     "data": {
      "text/plain": [
       "loan_amnt              0\n",
       "term                   0\n",
       "int_rate               0\n",
       "home_ownership         0\n",
       "annual_inc             0\n",
       "verification_status    0\n",
       "loan_status            0\n",
       "dti                    0\n",
       "open_acc               0\n",
       "revol_bal              0\n",
       "total_acc              0\n",
       "out_prncp              0\n",
       "total_pymnt            0\n",
       "total_rec_int          0\n",
       "total_rec_late_fee     0\n",
       "recoveries             0\n",
       "last_pymnt_amnt        0\n",
       "acc_now_delinq         0\n",
       "tot_coll_amt           0\n",
       "tot_cur_bal            0\n",
       "dtype: int64"
      ]
     },
     "execution_count": 24,
     "metadata": {},
     "output_type": "execute_result"
    }
   ],
   "source": [
    "# data setelah di cleaning\n",
    "df.isnull().sum()"
   ]
  },
  {
   "cell_type": "code",
   "execution_count": 25,
   "id": "d3b557e4",
   "metadata": {},
   "outputs": [],
   "source": [
    "#sns.heatmap(df.isnull(), cbar = True, cmap = 'cool')"
   ]
  },
  {
   "cell_type": "code",
   "execution_count": 26,
   "id": "c7556ede",
   "metadata": {},
   "outputs": [
    {
     "data": {
      "text/html": [
       "<div>\n",
       "<style scoped>\n",
       "    .dataframe tbody tr th:only-of-type {\n",
       "        vertical-align: middle;\n",
       "    }\n",
       "\n",
       "    .dataframe tbody tr th {\n",
       "        vertical-align: top;\n",
       "    }\n",
       "\n",
       "    .dataframe thead th {\n",
       "        text-align: right;\n",
       "    }\n",
       "</style>\n",
       "<table border=\"1\" class=\"dataframe\">\n",
       "  <thead>\n",
       "    <tr style=\"text-align: right;\">\n",
       "      <th></th>\n",
       "      <th>loan_amnt</th>\n",
       "      <th>term</th>\n",
       "      <th>int_rate</th>\n",
       "      <th>home_ownership</th>\n",
       "      <th>annual_inc</th>\n",
       "      <th>verification_status</th>\n",
       "      <th>loan_status</th>\n",
       "      <th>dti</th>\n",
       "      <th>open_acc</th>\n",
       "      <th>revol_bal</th>\n",
       "      <th>total_acc</th>\n",
       "      <th>out_prncp</th>\n",
       "      <th>total_pymnt</th>\n",
       "      <th>total_rec_int</th>\n",
       "      <th>total_rec_late_fee</th>\n",
       "      <th>recoveries</th>\n",
       "      <th>last_pymnt_amnt</th>\n",
       "      <th>acc_now_delinq</th>\n",
       "      <th>tot_coll_amt</th>\n",
       "      <th>tot_cur_bal</th>\n",
       "    </tr>\n",
       "  </thead>\n",
       "  <tbody>\n",
       "    <tr>\n",
       "      <th>42535</th>\n",
       "      <td>27050</td>\n",
       "      <td>36 months</td>\n",
       "      <td>10.99</td>\n",
       "      <td>OWN</td>\n",
       "      <td>55000.0</td>\n",
       "      <td>Verified</td>\n",
       "      <td>Current</td>\n",
       "      <td>22.87</td>\n",
       "      <td>14.0</td>\n",
       "      <td>36638</td>\n",
       "      <td>27.0</td>\n",
       "      <td>10018.90</td>\n",
       "      <td>21251.04</td>\n",
       "      <td>4219.94</td>\n",
       "      <td>0.0</td>\n",
       "      <td>0.0</td>\n",
       "      <td>885.46</td>\n",
       "      <td>0.0</td>\n",
       "      <td>0.0</td>\n",
       "      <td>114834.0</td>\n",
       "    </tr>\n",
       "    <tr>\n",
       "      <th>42536</th>\n",
       "      <td>9750</td>\n",
       "      <td>36 months</td>\n",
       "      <td>13.98</td>\n",
       "      <td>RENT</td>\n",
       "      <td>26000.0</td>\n",
       "      <td>Not Verified</td>\n",
       "      <td>Current</td>\n",
       "      <td>25.12</td>\n",
       "      <td>12.0</td>\n",
       "      <td>7967</td>\n",
       "      <td>28.0</td>\n",
       "      <td>3710.96</td>\n",
       "      <td>7994.83</td>\n",
       "      <td>1955.79</td>\n",
       "      <td>0.0</td>\n",
       "      <td>0.0</td>\n",
       "      <td>333.14</td>\n",
       "      <td>0.0</td>\n",
       "      <td>0.0</td>\n",
       "      <td>14123.0</td>\n",
       "    </tr>\n",
       "    <tr>\n",
       "      <th>42537</th>\n",
       "      <td>12000</td>\n",
       "      <td>36 months</td>\n",
       "      <td>6.62</td>\n",
       "      <td>MORTGAGE</td>\n",
       "      <td>105000.0</td>\n",
       "      <td>Not Verified</td>\n",
       "      <td>Current</td>\n",
       "      <td>14.05</td>\n",
       "      <td>12.0</td>\n",
       "      <td>13168</td>\n",
       "      <td>22.0</td>\n",
       "      <td>4266.62</td>\n",
       "      <td>8842.80</td>\n",
       "      <td>1109.42</td>\n",
       "      <td>0.0</td>\n",
       "      <td>0.0</td>\n",
       "      <td>368.45</td>\n",
       "      <td>0.0</td>\n",
       "      <td>0.0</td>\n",
       "      <td>267646.0</td>\n",
       "    </tr>\n",
       "    <tr>\n",
       "      <th>42538</th>\n",
       "      <td>12000</td>\n",
       "      <td>36 months</td>\n",
       "      <td>13.53</td>\n",
       "      <td>RENT</td>\n",
       "      <td>40000.0</td>\n",
       "      <td>Source Verified</td>\n",
       "      <td>Fully Paid</td>\n",
       "      <td>16.94</td>\n",
       "      <td>7.0</td>\n",
       "      <td>5572</td>\n",
       "      <td>32.0</td>\n",
       "      <td>0.00</td>\n",
       "      <td>13359.77</td>\n",
       "      <td>1359.78</td>\n",
       "      <td>0.0</td>\n",
       "      <td>0.0</td>\n",
       "      <td>119.17</td>\n",
       "      <td>0.0</td>\n",
       "      <td>15386.0</td>\n",
       "      <td>13605.0</td>\n",
       "    </tr>\n",
       "    <tr>\n",
       "      <th>42539</th>\n",
       "      <td>15000</td>\n",
       "      <td>36 months</td>\n",
       "      <td>8.90</td>\n",
       "      <td>MORTGAGE</td>\n",
       "      <td>63000.0</td>\n",
       "      <td>Not Verified</td>\n",
       "      <td>Current</td>\n",
       "      <td>16.51</td>\n",
       "      <td>8.0</td>\n",
       "      <td>11431</td>\n",
       "      <td>29.0</td>\n",
       "      <td>5449.27</td>\n",
       "      <td>11431.20</td>\n",
       "      <td>1880.47</td>\n",
       "      <td>0.0</td>\n",
       "      <td>0.0</td>\n",
       "      <td>476.30</td>\n",
       "      <td>0.0</td>\n",
       "      <td>1514.0</td>\n",
       "      <td>272492.0</td>\n",
       "    </tr>\n",
       "  </tbody>\n",
       "</table>\n",
       "</div>"
      ],
      "text/plain": [
       "       loan_amnt        term  int_rate home_ownership  annual_inc  \\\n",
       "42535      27050   36 months     10.99            OWN     55000.0   \n",
       "42536       9750   36 months     13.98           RENT     26000.0   \n",
       "42537      12000   36 months      6.62       MORTGAGE    105000.0   \n",
       "42538      12000   36 months     13.53           RENT     40000.0   \n",
       "42539      15000   36 months      8.90       MORTGAGE     63000.0   \n",
       "\n",
       "      verification_status loan_status    dti  open_acc  revol_bal  total_acc  \\\n",
       "42535            Verified     Current  22.87      14.0      36638       27.0   \n",
       "42536        Not Verified     Current  25.12      12.0       7967       28.0   \n",
       "42537        Not Verified     Current  14.05      12.0      13168       22.0   \n",
       "42538     Source Verified  Fully Paid  16.94       7.0       5572       32.0   \n",
       "42539        Not Verified     Current  16.51       8.0      11431       29.0   \n",
       "\n",
       "       out_prncp  total_pymnt  total_rec_int  total_rec_late_fee  recoveries  \\\n",
       "42535   10018.90     21251.04        4219.94                 0.0         0.0   \n",
       "42536    3710.96      7994.83        1955.79                 0.0         0.0   \n",
       "42537    4266.62      8842.80        1109.42                 0.0         0.0   \n",
       "42538       0.00     13359.77        1359.78                 0.0         0.0   \n",
       "42539    5449.27     11431.20        1880.47                 0.0         0.0   \n",
       "\n",
       "       last_pymnt_amnt  acc_now_delinq  tot_coll_amt  tot_cur_bal  \n",
       "42535           885.46             0.0           0.0     114834.0  \n",
       "42536           333.14             0.0           0.0      14123.0  \n",
       "42537           368.45             0.0           0.0     267646.0  \n",
       "42538           119.17             0.0       15386.0      13605.0  \n",
       "42539           476.30             0.0        1514.0     272492.0  "
      ]
     },
     "execution_count": 26,
     "metadata": {},
     "output_type": "execute_result"
    }
   ],
   "source": [
    "df.head(5)"
   ]
  },
  {
   "cell_type": "markdown",
   "id": "149da001",
   "metadata": {},
   "source": [
    "# DATA LABELING"
   ]
  },
  {
   "cell_type": "code",
   "execution_count": 27,
   "id": "c4365f91",
   "metadata": {},
   "outputs": [
    {
     "data": {
      "text/plain": [
       "array(['OWN', 'RENT', 'MORTGAGE', 'NONE', 'OTHER', 'ANY'], dtype=object)"
      ]
     },
     "execution_count": 27,
     "metadata": {},
     "output_type": "execute_result"
    }
   ],
   "source": [
    "df['home_ownership'].unique()"
   ]
  },
  {
   "cell_type": "code",
   "execution_count": 28,
   "id": "2d9a6937",
   "metadata": {},
   "outputs": [
    {
     "data": {
      "text/plain": [
       "array(['Verified', 'Not Verified', 'Source Verified'], dtype=object)"
      ]
     },
     "execution_count": 28,
     "metadata": {},
     "output_type": "execute_result"
    }
   ],
   "source": [
    "df['verification_status'].unique()"
   ]
  },
  {
   "cell_type": "code",
   "execution_count": 29,
   "id": "322c68d6",
   "metadata": {},
   "outputs": [
    {
     "data": {
      "text/plain": [
       "array(['Current', 'Fully Paid', 'Late (31-120 days)', 'Late (16-30 days)',\n",
       "       'Charged Off', 'In Grace Period', 'Default'], dtype=object)"
      ]
     },
     "execution_count": 29,
     "metadata": {},
     "output_type": "execute_result"
    }
   ],
   "source": [
    "df['loan_status'].unique()"
   ]
  },
  {
   "cell_type": "markdown",
   "id": "72462926",
   "metadata": {},
   "source": [
    "# REPLACING VALUES"
   ]
  },
  {
   "cell_type": "code",
   "execution_count": 31,
   "id": "e66d3b8e",
   "metadata": {},
   "outputs": [
    {
     "data": {
      "text/plain": [
       "array(['0', '1', '2', '3', '4', '5'], dtype=object)"
      ]
     },
     "execution_count": 31,
     "metadata": {},
     "output_type": "execute_result"
    }
   ],
   "source": [
    "df['home_ownership'] = df['home_ownership'].str.replace('OWN', '0')\n",
    "df['home_ownership'] = df['home_ownership'].str.replace('RENT', '1')\n",
    "df['home_ownership'] = df['home_ownership'].str.replace('MORTGAGE', '2')\n",
    "df['home_ownership'] = df['home_ownership'].str.replace('NONE', '3')\n",
    "df['home_ownership'] = df['home_ownership'].str.replace('OTHER', '4')\n",
    "df['home_ownership'] = df['home_ownership'].str.replace('ANY', '5')\n",
    "df['home_ownership'].unique()"
   ]
  },
  {
   "cell_type": "code",
   "execution_count": 32,
   "id": "be970550",
   "metadata": {},
   "outputs": [
    {
     "data": {
      "text/plain": [
       "array(['Verified', 'Not_Verified', 'Source_Verified'], dtype=object)"
      ]
     },
     "execution_count": 32,
     "metadata": {},
     "output_type": "execute_result"
    }
   ],
   "source": [
    "df['verification_status'] = df['verification_status'].str.replace('Source Verified', 'Source_Verified')\n",
    "df['verification_status'] = df['verification_status'].str.replace('Not Verified', 'Not_Verified')\n",
    "df['verification_status'] = df['verification_status'].str.replace('Verified', 'Verified')\n",
    "df['verification_status'].unique()"
   ]
  },
  {
   "cell_type": "code",
   "execution_count": 34,
   "id": "e3da1109",
   "metadata": {},
   "outputs": [
    {
     "data": {
      "text/plain": [
       "array(['0', '1'], dtype=object)"
      ]
     },
     "execution_count": 34,
     "metadata": {},
     "output_type": "execute_result"
    }
   ],
   "source": [
    "df['verification_status'] = df['verification_status'].str.replace('Source_Verified', '0')\n",
    "df['verification_status'] = df['verification_status'].str.replace('Not_Verified', '1')\n",
    "df['verification_status'] = df['verification_status'].str.replace('Verified', '0')\n",
    "df['verification_status'].unique()"
   ]
  },
  {
   "cell_type": "code",
   "execution_count": 36,
   "id": "4e38bad5",
   "metadata": {},
   "outputs": [
    {
     "name": "stderr",
     "output_type": "stream",
     "text": [
      "C:\\Users\\ASUS\\AppData\\Local\\Temp\\ipykernel_15352\\512046724.py:6: FutureWarning: The default value of regex will change from True to False in a future version.\n",
      "  df['loan_status'] = df['loan_status'].str.replace('Late (31-120 days)', '5')\n",
      "C:\\Users\\ASUS\\AppData\\Local\\Temp\\ipykernel_15352\\512046724.py:7: FutureWarning: The default value of regex will change from True to False in a future version.\n",
      "  df['loan_status'] = df['loan_status'].str.replace('Late (16-30 days)', '6')\n"
     ]
    },
    {
     "data": {
      "text/plain": [
       "array(['0', '1', 'Late (31-120 days)', 'Late (16-30 days)', '2', '3', '4'],\n",
       "      dtype=object)"
      ]
     },
     "execution_count": 36,
     "metadata": {},
     "output_type": "execute_result"
    }
   ],
   "source": [
    "df['loan_status'] = df['loan_status'].str.replace('Current', '0')\n",
    "df['loan_status'] = df['loan_status'].str.replace('Fully Paid', '1')\n",
    "df['loan_status'] = df['loan_status'].str.replace('Charged Off', '2')\n",
    "df['loan_status'] = df['loan_status'].str.replace('In Grace Period', '3')\n",
    "df['loan_status'] = df['loan_status'].str.replace('Default', '4')\n",
    "df['loan_status'] = df['loan_status'].str.replace('Late (31-120 days)', '5')\n",
    "df['loan_status'] = df['loan_status'].str.replace('Late (16-30 days)', '6')\n",
    "df['loan_status'].unique()"
   ]
  },
  {
   "cell_type": "code",
   "execution_count": 37,
   "id": "74bbbb2d",
   "metadata": {},
   "outputs": [
    {
     "data": {
      "text/plain": [
       "array(['0', '1', 5, 6, '2', '3', '4'], dtype=object)"
      ]
     },
     "execution_count": 37,
     "metadata": {},
     "output_type": "execute_result"
    }
   ],
   "source": [
    "df['loan_status'] = df['loan_status'].replace('Late (31-120 days)', 5)\n",
    "df['loan_status'] = df['loan_status'].replace('Late (16-30 days)', 6)\n",
    "df['loan_status'].unique()"
   ]
  },
  {
   "cell_type": "code",
   "execution_count": 41,
   "id": "89937532",
   "metadata": {},
   "outputs": [
    {
     "data": {
      "text/plain": [
       "loan_amnt                int64\n",
       "term                    object\n",
       "int_rate               float64\n",
       "home_ownership         float64\n",
       "annual_inc             float64\n",
       "verification_status    float64\n",
       "loan_status            float64\n",
       "dti                    float64\n",
       "open_acc               float64\n",
       "revol_bal                int64\n",
       "total_acc              float64\n",
       "out_prncp              float64\n",
       "total_pymnt            float64\n",
       "total_rec_int          float64\n",
       "total_rec_late_fee     float64\n",
       "recoveries             float64\n",
       "last_pymnt_amnt        float64\n",
       "acc_now_delinq         float64\n",
       "tot_coll_amt           float64\n",
       "tot_cur_bal            float64\n",
       "dtype: object"
      ]
     },
     "execution_count": 41,
     "metadata": {},
     "output_type": "execute_result"
    }
   ],
   "source": [
    "df.dtypes"
   ]
  },
  {
   "cell_type": "code",
   "execution_count": 42,
   "id": "0fd31d85",
   "metadata": {},
   "outputs": [],
   "source": [
    "df['term'] = df['term'].str.replace(' months', '').astype(int)"
   ]
  },
  {
   "cell_type": "code",
   "execution_count": 43,
   "id": "5350c904",
   "metadata": {},
   "outputs": [],
   "source": [
    "df['term'] = df['term'].astype(float)\n",
    "df['home_ownership'] = df['home_ownership'].astype(float)\n",
    "df['verification_status'] = df['verification_status'].astype(float)\n",
    "df['loan_status'] = df['loan_status'].astype(float)\n"
   ]
  },
  {
   "cell_type": "code",
   "execution_count": 44,
   "id": "531b1561",
   "metadata": {},
   "outputs": [
    {
     "data": {
      "text/html": [
       "<div>\n",
       "<style scoped>\n",
       "    .dataframe tbody tr th:only-of-type {\n",
       "        vertical-align: middle;\n",
       "    }\n",
       "\n",
       "    .dataframe tbody tr th {\n",
       "        vertical-align: top;\n",
       "    }\n",
       "\n",
       "    .dataframe thead th {\n",
       "        text-align: right;\n",
       "    }\n",
       "</style>\n",
       "<table border=\"1\" class=\"dataframe\">\n",
       "  <thead>\n",
       "    <tr style=\"text-align: right;\">\n",
       "      <th></th>\n",
       "      <th>loan_amnt</th>\n",
       "      <th>term</th>\n",
       "      <th>int_rate</th>\n",
       "      <th>home_ownership</th>\n",
       "      <th>annual_inc</th>\n",
       "      <th>verification_status</th>\n",
       "      <th>loan_status</th>\n",
       "      <th>dti</th>\n",
       "      <th>open_acc</th>\n",
       "      <th>revol_bal</th>\n",
       "      <th>total_acc</th>\n",
       "      <th>out_prncp</th>\n",
       "      <th>total_pymnt</th>\n",
       "      <th>total_rec_int</th>\n",
       "      <th>total_rec_late_fee</th>\n",
       "      <th>recoveries</th>\n",
       "      <th>last_pymnt_amnt</th>\n",
       "      <th>acc_now_delinq</th>\n",
       "      <th>tot_coll_amt</th>\n",
       "      <th>tot_cur_bal</th>\n",
       "    </tr>\n",
       "  </thead>\n",
       "  <tbody>\n",
       "    <tr>\n",
       "      <th>42535</th>\n",
       "      <td>27050</td>\n",
       "      <td>36.0</td>\n",
       "      <td>10.99</td>\n",
       "      <td>0.0</td>\n",
       "      <td>55000.0</td>\n",
       "      <td>0.0</td>\n",
       "      <td>0.0</td>\n",
       "      <td>22.87</td>\n",
       "      <td>14.0</td>\n",
       "      <td>36638</td>\n",
       "      <td>27.0</td>\n",
       "      <td>10018.90</td>\n",
       "      <td>21251.04</td>\n",
       "      <td>4219.94</td>\n",
       "      <td>0.0</td>\n",
       "      <td>0.0</td>\n",
       "      <td>885.46</td>\n",
       "      <td>0.0</td>\n",
       "      <td>0.0</td>\n",
       "      <td>114834.0</td>\n",
       "    </tr>\n",
       "    <tr>\n",
       "      <th>42536</th>\n",
       "      <td>9750</td>\n",
       "      <td>36.0</td>\n",
       "      <td>13.98</td>\n",
       "      <td>1.0</td>\n",
       "      <td>26000.0</td>\n",
       "      <td>1.0</td>\n",
       "      <td>0.0</td>\n",
       "      <td>25.12</td>\n",
       "      <td>12.0</td>\n",
       "      <td>7967</td>\n",
       "      <td>28.0</td>\n",
       "      <td>3710.96</td>\n",
       "      <td>7994.83</td>\n",
       "      <td>1955.79</td>\n",
       "      <td>0.0</td>\n",
       "      <td>0.0</td>\n",
       "      <td>333.14</td>\n",
       "      <td>0.0</td>\n",
       "      <td>0.0</td>\n",
       "      <td>14123.0</td>\n",
       "    </tr>\n",
       "    <tr>\n",
       "      <th>42537</th>\n",
       "      <td>12000</td>\n",
       "      <td>36.0</td>\n",
       "      <td>6.62</td>\n",
       "      <td>2.0</td>\n",
       "      <td>105000.0</td>\n",
       "      <td>1.0</td>\n",
       "      <td>0.0</td>\n",
       "      <td>14.05</td>\n",
       "      <td>12.0</td>\n",
       "      <td>13168</td>\n",
       "      <td>22.0</td>\n",
       "      <td>4266.62</td>\n",
       "      <td>8842.80</td>\n",
       "      <td>1109.42</td>\n",
       "      <td>0.0</td>\n",
       "      <td>0.0</td>\n",
       "      <td>368.45</td>\n",
       "      <td>0.0</td>\n",
       "      <td>0.0</td>\n",
       "      <td>267646.0</td>\n",
       "    </tr>\n",
       "    <tr>\n",
       "      <th>42538</th>\n",
       "      <td>12000</td>\n",
       "      <td>36.0</td>\n",
       "      <td>13.53</td>\n",
       "      <td>1.0</td>\n",
       "      <td>40000.0</td>\n",
       "      <td>0.0</td>\n",
       "      <td>1.0</td>\n",
       "      <td>16.94</td>\n",
       "      <td>7.0</td>\n",
       "      <td>5572</td>\n",
       "      <td>32.0</td>\n",
       "      <td>0.00</td>\n",
       "      <td>13359.77</td>\n",
       "      <td>1359.78</td>\n",
       "      <td>0.0</td>\n",
       "      <td>0.0</td>\n",
       "      <td>119.17</td>\n",
       "      <td>0.0</td>\n",
       "      <td>15386.0</td>\n",
       "      <td>13605.0</td>\n",
       "    </tr>\n",
       "    <tr>\n",
       "      <th>42539</th>\n",
       "      <td>15000</td>\n",
       "      <td>36.0</td>\n",
       "      <td>8.90</td>\n",
       "      <td>2.0</td>\n",
       "      <td>63000.0</td>\n",
       "      <td>1.0</td>\n",
       "      <td>0.0</td>\n",
       "      <td>16.51</td>\n",
       "      <td>8.0</td>\n",
       "      <td>11431</td>\n",
       "      <td>29.0</td>\n",
       "      <td>5449.27</td>\n",
       "      <td>11431.20</td>\n",
       "      <td>1880.47</td>\n",
       "      <td>0.0</td>\n",
       "      <td>0.0</td>\n",
       "      <td>476.30</td>\n",
       "      <td>0.0</td>\n",
       "      <td>1514.0</td>\n",
       "      <td>272492.0</td>\n",
       "    </tr>\n",
       "  </tbody>\n",
       "</table>\n",
       "</div>"
      ],
      "text/plain": [
       "       loan_amnt  term  int_rate  home_ownership  annual_inc  \\\n",
       "42535      27050  36.0     10.99             0.0     55000.0   \n",
       "42536       9750  36.0     13.98             1.0     26000.0   \n",
       "42537      12000  36.0      6.62             2.0    105000.0   \n",
       "42538      12000  36.0     13.53             1.0     40000.0   \n",
       "42539      15000  36.0      8.90             2.0     63000.0   \n",
       "\n",
       "       verification_status  loan_status    dti  open_acc  revol_bal  \\\n",
       "42535                  0.0          0.0  22.87      14.0      36638   \n",
       "42536                  1.0          0.0  25.12      12.0       7967   \n",
       "42537                  1.0          0.0  14.05      12.0      13168   \n",
       "42538                  0.0          1.0  16.94       7.0       5572   \n",
       "42539                  1.0          0.0  16.51       8.0      11431   \n",
       "\n",
       "       total_acc  out_prncp  total_pymnt  total_rec_int  total_rec_late_fee  \\\n",
       "42535       27.0   10018.90     21251.04        4219.94                 0.0   \n",
       "42536       28.0    3710.96      7994.83        1955.79                 0.0   \n",
       "42537       22.0    4266.62      8842.80        1109.42                 0.0   \n",
       "42538       32.0       0.00     13359.77        1359.78                 0.0   \n",
       "42539       29.0    5449.27     11431.20        1880.47                 0.0   \n",
       "\n",
       "       recoveries  last_pymnt_amnt  acc_now_delinq  tot_coll_amt  tot_cur_bal  \n",
       "42535         0.0           885.46             0.0           0.0     114834.0  \n",
       "42536         0.0           333.14             0.0           0.0      14123.0  \n",
       "42537         0.0           368.45             0.0           0.0     267646.0  \n",
       "42538         0.0           119.17             0.0       15386.0      13605.0  \n",
       "42539         0.0           476.30             0.0        1514.0     272492.0  "
      ]
     },
     "execution_count": 44,
     "metadata": {},
     "output_type": "execute_result"
    }
   ],
   "source": [
    "df.head(5)"
   ]
  },
  {
   "cell_type": "code",
   "execution_count": 45,
   "id": "6328828a",
   "metadata": {},
   "outputs": [
    {
     "data": {
      "text/plain": [
       "loan_amnt                int64\n",
       "term                   float64\n",
       "int_rate               float64\n",
       "home_ownership         float64\n",
       "annual_inc             float64\n",
       "verification_status    float64\n",
       "loan_status            float64\n",
       "dti                    float64\n",
       "open_acc               float64\n",
       "revol_bal                int64\n",
       "total_acc              float64\n",
       "out_prncp              float64\n",
       "total_pymnt            float64\n",
       "total_rec_int          float64\n",
       "total_rec_late_fee     float64\n",
       "recoveries             float64\n",
       "last_pymnt_amnt        float64\n",
       "acc_now_delinq         float64\n",
       "tot_coll_amt           float64\n",
       "tot_cur_bal            float64\n",
       "dtype: object"
      ]
     },
     "execution_count": 45,
     "metadata": {},
     "output_type": "execute_result"
    }
   ],
   "source": [
    "df.dtypes"
   ]
  },
  {
   "cell_type": "markdown",
   "id": "843f245c",
   "metadata": {},
   "source": [
    "# Checking if the Target Class is Balanced or not"
   ]
  },
  {
   "cell_type": "code",
   "execution_count": 49,
   "id": "e29840f7",
   "metadata": {},
   "outputs": [
    {
     "name": "stderr",
     "output_type": "stream",
     "text": [
      "C:\\Users\\ASUS\\anaconda3\\lib\\site-packages\\seaborn\\_decorators.py:36: FutureWarning: Pass the following variable as a keyword arg: x. From version 0.12, the only valid positional argument will be `data`, and passing other arguments without an explicit keyword will result in an error or misinterpretation.\n",
      "  warnings.warn(\n"
     ]
    },
    {
     "name": "stdout",
     "output_type": "stream",
     "text": [
      "0.0    276663\n",
      "1.0    119346\n",
      "Name: verification_status, dtype: int64\n"
     ]
    },
    {
     "data": {
      "image/png": "[encoded data removed]",
      "text/plain": [
       "<Figure size 432x288 with 1 Axes>"
      ]
     },
     "metadata": {
      "needs_background": "light"
     },
     "output_type": "display_data"
    }
   ],
   "source": [
    "sns.countplot(df['verification_status'])\n",
    "print(df.verification_status.value_counts())"
   ]
  },
  {
   "cell_type": "markdown",
   "id": "707c3195",
   "metadata": {},
   "source": [
    "# Oversampling Minority Class"
   ]
  },
  {
   "cell_type": "code",
   "execution_count": 50,
   "id": "e59d70ec",
   "metadata": {},
   "outputs": [],
   "source": [
    "from sklearn.utils import resample\n",
    "#create two different dataframe of majority and minority class \n",
    "df_majority = df[(df['verification_status']==0)] \n",
    "df_minority = df[(df['verification_status']==1)] \n",
    "# upsample minority class\n",
    "df_minority_upsampled = resample(df_minority, \n",
    "                                 replace=True,    # sample with replacement\n",
    "                                 n_samples= 276663, # to match majority class\n",
    "                                 random_state=0)  # reproducible results\n",
    "# Combine majority class with upsampled minority class\n",
    "df_upsampled = pd.concat([df_minority_upsampled, df_majority])"
   ]
  },
  {
   "cell_type": "code",
   "execution_count": 53,
   "id": "fb1854f6",
   "metadata": {},
   "outputs": [
    {
     "name": "stderr",
     "output_type": "stream",
     "text": [
      "C:\\Users\\ASUS\\anaconda3\\lib\\site-packages\\seaborn\\_decorators.py:36: FutureWarning: Pass the following variable as a keyword arg: x. From version 0.12, the only valid positional argument will be `data`, and passing other arguments without an explicit keyword will result in an error or misinterpretation.\n",
      "  warnings.warn(\n"
     ]
    },
    {
     "name": "stdout",
     "output_type": "stream",
     "text": [
      "1.0    276663\n",
      "0.0    276663\n",
      "Name: verification_status, dtype: int64\n"
     ]
    },
    {
     "data": {
      "image/png": "[encoded data removed]",
      "text/plain": [
       "<Figure size 432x288 with 1 Axes>"
      ]
     },
     "metadata": {
      "needs_background": "light"
     },
     "output_type": "display_data"
    }
   ],
   "source": [
    "sns.countplot(df_upsampled['verification_status'])\n",
    "print(df_upsampled.verification_status.value_counts())"
   ]
  },
  {
   "cell_type": "markdown",
   "id": "66848a94",
   "metadata": {},
   "source": [
    "# DATA CORELATION"
   ]
  },
  {
   "cell_type": "code",
   "execution_count": 54,
   "id": "e96447dc",
   "metadata": {},
   "outputs": [
    {
     "data": {
      "image/png": "[encoded data removed]",
      "text/plain": [
       "<Figure size 720x576 with 1 Axes>"
      ]
     },
     "metadata": {
      "needs_background": "light"
     },
     "output_type": "display_data"
    }
   ],
   "source": [
    "corr = df_upsampled[df_upsampled.columns].corr()['verification_status']\n",
    "plt.figure(figsize=(10,8))\n",
    "plt.plot(corr)\n",
    "plt.xticks(rotation=90)\n",
    "plt.show()"
   ]
  },
  {
   "cell_type": "code",
   "execution_count": 58,
   "id": "e190ffc5",
   "metadata": {},
   "outputs": [
    {
     "data": {
      "image/png": "[encoded data removed]",
      "text/plain": [
       "<Figure size 864x504 with 2 Axes>"
      ]
     },
     "metadata": {
      "needs_background": "light"
     },
     "output_type": "display_data"
    }
   ],
   "source": [
    "plt.figure(figsize=(12, 7))\n",
    "sns.heatmap(df_upsampled.corr(), annot=True, vmin=-1, vmax=1, fmt=\".2f\", cmap=\"Oranges\")\n",
    "plt.show()"
   ]
  },
  {
   "cell_type": "markdown",
   "id": "80cfbab6",
   "metadata": {},
   "source": [
    "# Building Model Machine Learning"
   ]
  },
  {
   "cell_type": "code",
   "execution_count": 59,
   "id": "74c3dd46",
   "metadata": {},
   "outputs": [],
   "source": [
    "X = df_upsampled.drop('verification_status', axis=1)\n",
    "y = df_upsampled['verification_status']"
   ]
  },
  {
   "cell_type": "code",
   "execution_count": 61,
   "id": "02bfd18a",
   "metadata": {},
   "outputs": [],
   "source": [
    "#test size 20% and train size 80%\n",
    "from sklearn.model_selection import train_test_split\n",
    "from sklearn.metrics import accuracy_score\n",
    "X_train, X_test, y_train, y_test = train_test_split(X,y, test_size=0.2,random_state=0)"
   ]
  },
  {
   "cell_type": "code",
   "execution_count": 63,
   "id": "56bca9f8",
   "metadata": {},
   "outputs": [],
   "source": [
    "from sklearn import tree\n",
    "dtree = tree.DecisionTreeClassifier(random_state=0)\n",
    "dtree = dtree.fit(X_train, y_train)"
   ]
  },
  {
   "cell_type": "code",
   "execution_count": 80,
   "id": "e4ef2eb9",
   "metadata": {},
   "outputs": [
    {
     "data": {
      "text/plain": [
       "LabelEncoder()"
      ]
     },
     "execution_count": 80,
     "metadata": {},
     "output_type": "execute_result"
    }
   ],
   "source": [
    "lb = LabelEncoder()\n",
    "lb.fit(y_train)"
   ]
  },
  {
   "cell_type": "code",
   "execution_count": 81,
   "id": "e30f5a2c",
   "metadata": {},
   "outputs": [
    {
     "data": {
      "text/plain": [
       "400625    0.0\n",
       "249858    0.0\n",
       "277242    0.0\n",
       "451175    0.0\n",
       "98325     0.0\n",
       "         ... \n",
       "158235    0.0\n",
       "455535    1.0\n",
       "138007    1.0\n",
       "298559    0.0\n",
       "80661     0.0\n",
       "Name: verification_status, Length: 442660, dtype: float64"
      ]
     },
     "execution_count": 81,
     "metadata": {},
     "output_type": "execute_result"
    }
   ],
   "source": [
    "y_train"
   ]
  },
  {
   "cell_type": "code",
   "execution_count": 83,
   "id": "174e5e85",
   "metadata": {},
   "outputs": [
    {
     "data": {
      "text/plain": [
       "353403    0.0\n",
       "292456    1.0\n",
       "461184    0.0\n",
       "297609    1.0\n",
       "419227    0.0\n",
       "         ... \n",
       "79187     1.0\n",
       "277422    0.0\n",
       "249500    1.0\n",
       "124409    0.0\n",
       "316174    0.0\n",
       "Name: verification_status, Length: 110666, dtype: float64"
      ]
     },
     "execution_count": 83,
     "metadata": {},
     "output_type": "execute_result"
    }
   ],
   "source": [
    "y_test"
   ]
  },
  {
   "cell_type": "code",
   "execution_count": null,
   "id": "ed13d985",
   "metadata": {},
   "outputs": [],
   "source": []
  },
  {
   "cell_type": "code",
   "execution_count": null,
   "id": "62d60305",
   "metadata": {},
   "outputs": [],
   "source": []
  },
  {
   "cell_type": "code",
   "execution_count": null,
   "id": "d086e9d5",
   "metadata": {},
   "outputs": [],
   "source": []
  },
  {
   "cell_type": "code",
   "execution_count": 87,
   "id": "71dbb258",
   "metadata": {},
   "outputs": [
    {
     "name": "stdout",
     "output_type": "stream",
     "text": [
      "Accuracy Score : 50.05 %\n"
     ]
    },
    {
     "name": "stderr",
     "output_type": "stream",
     "text": [
      "C:\\Users\\ASUS\\anaconda3\\lib\\site-packages\\sklearn\\base.py:450: UserWarning: X does not have valid feature names, but DecisionTreeClassifier was fitted with feature names\n",
      "  warnings.warn(\n"
     ]
    }
   ],
   "source": [
    "y_pred = dtree.predict(X_test)\n",
    "print(\"Accuracy Score :\", round(accuracy_score(y_test, y_pred)*100 ,2), \"%\")"
   ]
  },
  {
   "cell_type": "code",
   "execution_count": 77,
   "id": "80a1b6a2",
   "metadata": {},
   "outputs": [
    {
     "ename": "TypeError",
     "evalue": "'DecisionTreeClassifier' object is not iterable",
     "output_type": "error",
     "traceback": [
      "\u001b[1;31m---------------------------------------------------------------------------\u001b[0m",
      "\u001b[1;31mTypeError\u001b[0m                                 Traceback (most recent call last)",
      "Input \u001b[1;32mIn [77]\u001b[0m, in \u001b[0;36m<cell line: 2>\u001b[1;34m()\u001b[0m\n\u001b[0;32m      1\u001b[0m cm \u001b[38;5;241m=\u001b[39m confusion_matrix(y_test, y_pred)\n\u001b[1;32m----> 2\u001b[0m \u001b[43mConfusionMatrixDisplay\u001b[49m\u001b[43m(\u001b[49m\u001b[43mcm\u001b[49m\u001b[43m,\u001b[49m\u001b[43m \u001b[49m\u001b[43mdisplay_labels\u001b[49m\u001b[38;5;241;43m=\u001b[39;49m\u001b[43mdtree\u001b[49m\u001b[43m)\u001b[49m\u001b[38;5;241;43m.\u001b[39;49m\u001b[43mplot\u001b[49m\u001b[43m(\u001b[49m\u001b[43mcmap\u001b[49m\u001b[43m \u001b[49m\u001b[38;5;241;43m=\u001b[39;49m\u001b[43m \u001b[49m\u001b[38;5;124;43m\"\u001b[39;49m\u001b[38;5;124;43mYlGn\u001b[39;49m\u001b[38;5;124;43m\"\u001b[39;49m\u001b[43m)\u001b[49m\n",
      "File \u001b[1;32m~\\anaconda3\\lib\\site-packages\\sklearn\\metrics\\_plot\\confusion_matrix.py:163\u001b[0m, in \u001b[0;36mConfusionMatrixDisplay.plot\u001b[1;34m(self, include_values, cmap, xticks_rotation, values_format, ax, colorbar)\u001b[0m\n\u001b[0;32m    161\u001b[0m \u001b[38;5;28;01mif\u001b[39;00m colorbar:\n\u001b[0;32m    162\u001b[0m     fig\u001b[38;5;241m.\u001b[39mcolorbar(\u001b[38;5;28mself\u001b[39m\u001b[38;5;241m.\u001b[39mim_, ax\u001b[38;5;241m=\u001b[39max)\n\u001b[1;32m--> 163\u001b[0m \u001b[43max\u001b[49m\u001b[38;5;241;43m.\u001b[39;49m\u001b[43mset\u001b[49m\u001b[43m(\u001b[49m\n\u001b[0;32m    164\u001b[0m \u001b[43m    \u001b[49m\u001b[43mxticks\u001b[49m\u001b[38;5;241;43m=\u001b[39;49m\u001b[43mnp\u001b[49m\u001b[38;5;241;43m.\u001b[39;49m\u001b[43marange\u001b[49m\u001b[43m(\u001b[49m\u001b[43mn_classes\u001b[49m\u001b[43m)\u001b[49m\u001b[43m,\u001b[49m\n\u001b[0;32m    165\u001b[0m \u001b[43m    \u001b[49m\u001b[43myticks\u001b[49m\u001b[38;5;241;43m=\u001b[39;49m\u001b[43mnp\u001b[49m\u001b[38;5;241;43m.\u001b[39;49m\u001b[43marange\u001b[49m\u001b[43m(\u001b[49m\u001b[43mn_classes\u001b[49m\u001b[43m)\u001b[49m\u001b[43m,\u001b[49m\n\u001b[0;32m    166\u001b[0m \u001b[43m    \u001b[49m\u001b[43mxticklabels\u001b[49m\u001b[38;5;241;43m=\u001b[39;49m\u001b[43mdisplay_labels\u001b[49m\u001b[43m,\u001b[49m\n\u001b[0;32m    167\u001b[0m \u001b[43m    \u001b[49m\u001b[43myticklabels\u001b[49m\u001b[38;5;241;43m=\u001b[39;49m\u001b[43mdisplay_labels\u001b[49m\u001b[43m,\u001b[49m\n\u001b[0;32m    168\u001b[0m \u001b[43m    \u001b[49m\u001b[43mylabel\u001b[49m\u001b[38;5;241;43m=\u001b[39;49m\u001b[38;5;124;43m\"\u001b[39;49m\u001b[38;5;124;43mTrue label\u001b[39;49m\u001b[38;5;124;43m\"\u001b[39;49m\u001b[43m,\u001b[49m\n\u001b[0;32m    169\u001b[0m \u001b[43m    \u001b[49m\u001b[43mxlabel\u001b[49m\u001b[38;5;241;43m=\u001b[39;49m\u001b[38;5;124;43m\"\u001b[39;49m\u001b[38;5;124;43mPredicted label\u001b[39;49m\u001b[38;5;124;43m\"\u001b[39;49m\u001b[43m,\u001b[49m\n\u001b[0;32m    170\u001b[0m \u001b[43m\u001b[49m\u001b[43m)\u001b[49m\n\u001b[0;32m    172\u001b[0m ax\u001b[38;5;241m.\u001b[39mset_ylim((n_classes \u001b[38;5;241m-\u001b[39m \u001b[38;5;241m0.5\u001b[39m, \u001b[38;5;241m-\u001b[39m\u001b[38;5;241m0.5\u001b[39m))\n\u001b[0;32m    173\u001b[0m plt\u001b[38;5;241m.\u001b[39msetp(ax\u001b[38;5;241m.\u001b[39mget_xticklabels(), rotation\u001b[38;5;241m=\u001b[39mxticks_rotation)\n",
      "File \u001b[1;32m~\\anaconda3\\lib\\site-packages\\matplotlib\\artist.py:116\u001b[0m, in \u001b[0;36mArtist.__init_subclass__.<locals>.<lambda>\u001b[1;34m(self, **kwargs)\u001b[0m\n\u001b[0;32m    108\u001b[0m \u001b[38;5;28;01mif\u001b[39;00m \u001b[38;5;129;01mnot\u001b[39;00m \u001b[38;5;28mhasattr\u001b[39m(\u001b[38;5;28mcls\u001b[39m\u001b[38;5;241m.\u001b[39mset, \u001b[38;5;124m'\u001b[39m\u001b[38;5;124m_autogenerated_signature\u001b[39m\u001b[38;5;124m'\u001b[39m):\n\u001b[0;32m    109\u001b[0m     \u001b[38;5;66;03m# Don't overwrite cls.set if the subclass or one of its parents\u001b[39;00m\n\u001b[0;32m    110\u001b[0m     \u001b[38;5;66;03m# has defined a set method set itself.\u001b[39;00m\n\u001b[0;32m    111\u001b[0m     \u001b[38;5;66;03m# If there was no explicit definition, cls.set is inherited from\u001b[39;00m\n\u001b[0;32m    112\u001b[0m     \u001b[38;5;66;03m# the hierarchy of auto-generated set methods, which hold the\u001b[39;00m\n\u001b[0;32m    113\u001b[0m     \u001b[38;5;66;03m# flag _autogenerated_signature.\u001b[39;00m\n\u001b[0;32m    114\u001b[0m     \u001b[38;5;28;01mreturn\u001b[39;00m\n\u001b[1;32m--> 116\u001b[0m \u001b[38;5;28mcls\u001b[39m\u001b[38;5;241m.\u001b[39mset \u001b[38;5;241m=\u001b[39m \u001b[38;5;28;01mlambda\u001b[39;00m \u001b[38;5;28mself\u001b[39m, \u001b[38;5;241m*\u001b[39m\u001b[38;5;241m*\u001b[39mkwargs: Artist\u001b[38;5;241m.\u001b[39mset(\u001b[38;5;28mself\u001b[39m, \u001b[38;5;241m*\u001b[39m\u001b[38;5;241m*\u001b[39mkwargs)\n\u001b[0;32m    117\u001b[0m \u001b[38;5;28mcls\u001b[39m\u001b[38;5;241m.\u001b[39mset\u001b[38;5;241m.\u001b[39m\u001b[38;5;18m__name__\u001b[39m \u001b[38;5;241m=\u001b[39m \u001b[38;5;124m\"\u001b[39m\u001b[38;5;124mset\u001b[39m\u001b[38;5;124m\"\u001b[39m\n\u001b[0;32m    118\u001b[0m \u001b[38;5;28mcls\u001b[39m\u001b[38;5;241m.\u001b[39mset\u001b[38;5;241m.\u001b[39m\u001b[38;5;18m__qualname__\u001b[39m \u001b[38;5;241m=\u001b[39m \u001b[38;5;124mf\u001b[39m\u001b[38;5;124m\"\u001b[39m\u001b[38;5;132;01m{\u001b[39;00m\u001b[38;5;28mcls\u001b[39m\u001b[38;5;241m.\u001b[39m\u001b[38;5;18m__qualname__\u001b[39m\u001b[38;5;132;01m}\u001b[39;00m\u001b[38;5;124m.set\u001b[39m\u001b[38;5;124m\"\u001b[39m\n",
      "File \u001b[1;32m~\\anaconda3\\lib\\site-packages\\matplotlib\\artist.py:1164\u001b[0m, in \u001b[0;36mArtist.set\u001b[1;34m(self, **kwargs)\u001b[0m\n\u001b[0;32m   1159\u001b[0m \u001b[38;5;28;01mdef\u001b[39;00m \u001b[38;5;21mset\u001b[39m(\u001b[38;5;28mself\u001b[39m, \u001b[38;5;241m*\u001b[39m\u001b[38;5;241m*\u001b[39mkwargs):\n\u001b[0;32m   1160\u001b[0m     \u001b[38;5;66;03m# docstring and signature are auto-generated via\u001b[39;00m\n\u001b[0;32m   1161\u001b[0m     \u001b[38;5;66;03m# Artist._update_set_signature_and_docstring() at the end of the\u001b[39;00m\n\u001b[0;32m   1162\u001b[0m     \u001b[38;5;66;03m# module.\u001b[39;00m\n\u001b[0;32m   1163\u001b[0m     kwargs \u001b[38;5;241m=\u001b[39m cbook\u001b[38;5;241m.\u001b[39mnormalize_kwargs(kwargs, \u001b[38;5;28mself\u001b[39m)\n\u001b[1;32m-> 1164\u001b[0m     \u001b[38;5;28;01mreturn\u001b[39;00m \u001b[38;5;28;43mself\u001b[39;49m\u001b[38;5;241;43m.\u001b[39;49m\u001b[43mupdate\u001b[49m\u001b[43m(\u001b[49m\u001b[43mkwargs\u001b[49m\u001b[43m)\u001b[49m\n",
      "File \u001b[1;32m~\\anaconda3\\lib\\site-packages\\matplotlib\\artist.py:1066\u001b[0m, in \u001b[0;36mArtist.update\u001b[1;34m(self, props)\u001b[0m\n\u001b[0;32m   1063\u001b[0m             \u001b[38;5;28;01mif\u001b[39;00m \u001b[38;5;129;01mnot\u001b[39;00m callable(func):\n\u001b[0;32m   1064\u001b[0m                 \u001b[38;5;28;01mraise\u001b[39;00m \u001b[38;5;167;01mAttributeError\u001b[39;00m(\u001b[38;5;124mf\u001b[39m\u001b[38;5;124m\"\u001b[39m\u001b[38;5;132;01m{\u001b[39;00m\u001b[38;5;28mtype\u001b[39m(\u001b[38;5;28mself\u001b[39m)\u001b[38;5;241m.\u001b[39m\u001b[38;5;18m__name__\u001b[39m\u001b[38;5;132;01m!r}\u001b[39;00m\u001b[38;5;124m object \u001b[39m\u001b[38;5;124m\"\u001b[39m\n\u001b[0;32m   1065\u001b[0m                                      \u001b[38;5;124mf\u001b[39m\u001b[38;5;124m\"\u001b[39m\u001b[38;5;124mhas no property \u001b[39m\u001b[38;5;132;01m{\u001b[39;00mk\u001b[38;5;132;01m!r}\u001b[39;00m\u001b[38;5;124m\"\u001b[39m)\n\u001b[1;32m-> 1066\u001b[0m             ret\u001b[38;5;241m.\u001b[39mappend(\u001b[43mfunc\u001b[49m\u001b[43m(\u001b[49m\u001b[43mv\u001b[49m\u001b[43m)\u001b[49m)\n\u001b[0;32m   1067\u001b[0m \u001b[38;5;28;01mif\u001b[39;00m ret:\n\u001b[0;32m   1068\u001b[0m     \u001b[38;5;28mself\u001b[39m\u001b[38;5;241m.\u001b[39mpchanged()\n",
      "File \u001b[1;32m~\\anaconda3\\lib\\site-packages\\matplotlib\\axes\\_base.py:75\u001b[0m, in \u001b[0;36m_axis_method_wrapper.__set_name__.<locals>.wrapper\u001b[1;34m(self, *args, **kwargs)\u001b[0m\n\u001b[0;32m     74\u001b[0m \u001b[38;5;28;01mdef\u001b[39;00m \u001b[38;5;21mwrapper\u001b[39m(\u001b[38;5;28mself\u001b[39m, \u001b[38;5;241m*\u001b[39margs, \u001b[38;5;241m*\u001b[39m\u001b[38;5;241m*\u001b[39mkwargs):\n\u001b[1;32m---> 75\u001b[0m     \u001b[38;5;28;01mreturn\u001b[39;00m get_method(\u001b[38;5;28mself\u001b[39m)(\u001b[38;5;241m*\u001b[39margs, \u001b[38;5;241m*\u001b[39m\u001b[38;5;241m*\u001b[39mkwargs)\n",
      "File \u001b[1;32m~\\anaconda3\\lib\\site-packages\\matplotlib\\axis.py:1798\u001b[0m, in \u001b[0;36mAxis._set_ticklabels\u001b[1;34m(self, labels, fontdict, minor, **kwargs)\u001b[0m\n\u001b[0;32m   1796\u001b[0m \u001b[38;5;28;01mif\u001b[39;00m fontdict \u001b[38;5;129;01mis\u001b[39;00m \u001b[38;5;129;01mnot\u001b[39;00m \u001b[38;5;28;01mNone\u001b[39;00m:\n\u001b[0;32m   1797\u001b[0m     kwargs\u001b[38;5;241m.\u001b[39mupdate(fontdict)\n\u001b[1;32m-> 1798\u001b[0m \u001b[38;5;28;01mreturn\u001b[39;00m \u001b[38;5;28mself\u001b[39m\u001b[38;5;241m.\u001b[39mset_ticklabels(labels, minor\u001b[38;5;241m=\u001b[39mminor, \u001b[38;5;241m*\u001b[39m\u001b[38;5;241m*\u001b[39mkwargs)\n",
      "File \u001b[1;32m~\\anaconda3\\lib\\site-packages\\matplotlib\\axis.py:1712\u001b[0m, in \u001b[0;36mAxis.set_ticklabels\u001b[1;34m(self, ticklabels, minor, **kwargs)\u001b[0m\n\u001b[0;32m   1680\u001b[0m \u001b[38;5;28;01mdef\u001b[39;00m \u001b[38;5;21mset_ticklabels\u001b[39m(\u001b[38;5;28mself\u001b[39m, ticklabels, \u001b[38;5;241m*\u001b[39m, minor\u001b[38;5;241m=\u001b[39m\u001b[38;5;28;01mFalse\u001b[39;00m, \u001b[38;5;241m*\u001b[39m\u001b[38;5;241m*\u001b[39mkwargs):\n\u001b[0;32m   1681\u001b[0m     \u001b[38;5;124mr\u001b[39m\u001b[38;5;124;03m\"\"\"\u001b[39;00m\n\u001b[0;32m   1682\u001b[0m \u001b[38;5;124;03m    Set the text values of the tick labels.\u001b[39;00m\n\u001b[0;32m   1683\u001b[0m \n\u001b[1;32m   (...)\u001b[0m\n\u001b[0;32m   1710\u001b[0m \u001b[38;5;124;03m        ``tick.label2`` if it is visible, in that order.\u001b[39;00m\n\u001b[0;32m   1711\u001b[0m \u001b[38;5;124;03m    \"\"\"\u001b[39;00m\n\u001b[1;32m-> 1712\u001b[0m     ticklabels \u001b[38;5;241m=\u001b[39m [t\u001b[38;5;241m.\u001b[39mget_text() \u001b[38;5;28;01mif\u001b[39;00m \u001b[38;5;28mhasattr\u001b[39m(t, \u001b[38;5;124m'\u001b[39m\u001b[38;5;124mget_text\u001b[39m\u001b[38;5;124m'\u001b[39m) \u001b[38;5;28;01melse\u001b[39;00m t\n\u001b[0;32m   1713\u001b[0m                   \u001b[38;5;28;01mfor\u001b[39;00m t \u001b[38;5;129;01min\u001b[39;00m ticklabels]\n\u001b[0;32m   1714\u001b[0m     locator \u001b[38;5;241m=\u001b[39m (\u001b[38;5;28mself\u001b[39m\u001b[38;5;241m.\u001b[39mget_minor_locator() \u001b[38;5;28;01mif\u001b[39;00m minor\n\u001b[0;32m   1715\u001b[0m                \u001b[38;5;28;01melse\u001b[39;00m \u001b[38;5;28mself\u001b[39m\u001b[38;5;241m.\u001b[39mget_major_locator())\n\u001b[0;32m   1716\u001b[0m     \u001b[38;5;28;01mif\u001b[39;00m \u001b[38;5;28misinstance\u001b[39m(locator, mticker\u001b[38;5;241m.\u001b[39mFixedLocator):\n\u001b[0;32m   1717\u001b[0m         \u001b[38;5;66;03m# Passing [] as a list of ticklabels is often used as a way to\u001b[39;00m\n\u001b[0;32m   1718\u001b[0m         \u001b[38;5;66;03m# remove all tick labels, so only error for > 0 ticklabels\u001b[39;00m\n",
      "\u001b[1;31mTypeError\u001b[0m: 'DecisionTreeClassifier' object is not iterable"
     ]
    },
    {
     "data": {
      "image/png": "[encoded data removed]",
      "text/plain": [
       "<Figure size 432x288 with 2 Axes>"
      ]
     },
     "metadata": {
      "needs_background": "light"
     },
     "output_type": "display_data"
    }
   ],
   "source": [
    "cm = confusion_matrix(y_test, y_pred)\n",
    "ConfusionMatrixDisplay(cm, display_labels=dtree).plot(cmap = \"YlGn\")"
   ]
  },
  {
   "cell_type": "code",
   "execution_count": 66,
   "id": "4cc5be75",
   "metadata": {},
   "outputs": [
    {
     "data": {
      "text/html": [
       "<div>\n",
       "<style scoped>\n",
       "    .dataframe tbody tr th:only-of-type {\n",
       "        vertical-align: middle;\n",
       "    }\n",
       "\n",
       "    .dataframe tbody tr th {\n",
       "        vertical-align: top;\n",
       "    }\n",
       "\n",
       "    .dataframe thead th {\n",
       "        text-align: right;\n",
       "    }\n",
       "</style>\n",
       "<table border=\"1\" class=\"dataframe\">\n",
       "  <thead>\n",
       "    <tr style=\"text-align: right;\">\n",
       "      <th></th>\n",
       "      <th>Feature Name</th>\n",
       "      <th>Importance</th>\n",
       "    </tr>\n",
       "  </thead>\n",
       "  <tbody>\n",
       "    <tr>\n",
       "      <th>0</th>\n",
       "      <td>loan_amnt</td>\n",
       "      <td>0.204134</td>\n",
       "    </tr>\n",
       "    <tr>\n",
       "      <th>18</th>\n",
       "      <td>tot_cur_bal</td>\n",
       "      <td>0.098360</td>\n",
       "    </tr>\n",
       "    <tr>\n",
       "      <th>6</th>\n",
       "      <td>dti</td>\n",
       "      <td>0.089566</td>\n",
       "    </tr>\n",
       "    <tr>\n",
       "      <th>8</th>\n",
       "      <td>revol_bal</td>\n",
       "      <td>0.074554</td>\n",
       "    </tr>\n",
       "    <tr>\n",
       "      <th>11</th>\n",
       "      <td>total_pymnt</td>\n",
       "      <td>0.068828</td>\n",
       "    </tr>\n",
       "    <tr>\n",
       "      <th>4</th>\n",
       "      <td>annual_inc</td>\n",
       "      <td>0.067109</td>\n",
       "    </tr>\n",
       "    <tr>\n",
       "      <th>12</th>\n",
       "      <td>total_rec_int</td>\n",
       "      <td>0.060518</td>\n",
       "    </tr>\n",
       "    <tr>\n",
       "      <th>1</th>\n",
       "      <td>term</td>\n",
       "      <td>0.060008</td>\n",
       "    </tr>\n",
       "    <tr>\n",
       "      <th>15</th>\n",
       "      <td>last_pymnt_amnt</td>\n",
       "      <td>0.051159</td>\n",
       "    </tr>\n",
       "    <tr>\n",
       "      <th>9</th>\n",
       "      <td>total_acc</td>\n",
       "      <td>0.050687</td>\n",
       "    </tr>\n",
       "    <tr>\n",
       "      <th>10</th>\n",
       "      <td>out_prncp</td>\n",
       "      <td>0.050271</td>\n",
       "    </tr>\n",
       "    <tr>\n",
       "      <th>2</th>\n",
       "      <td>int_rate</td>\n",
       "      <td>0.048459</td>\n",
       "    </tr>\n",
       "    <tr>\n",
       "      <th>7</th>\n",
       "      <td>open_acc</td>\n",
       "      <td>0.039059</td>\n",
       "    </tr>\n",
       "    <tr>\n",
       "      <th>17</th>\n",
       "      <td>tot_coll_amt</td>\n",
       "      <td>0.015227</td>\n",
       "    </tr>\n",
       "    <tr>\n",
       "      <th>3</th>\n",
       "      <td>home_ownership</td>\n",
       "      <td>0.010639</td>\n",
       "    </tr>\n",
       "    <tr>\n",
       "      <th>5</th>\n",
       "      <td>loan_status</td>\n",
       "      <td>0.004504</td>\n",
       "    </tr>\n",
       "    <tr>\n",
       "      <th>14</th>\n",
       "      <td>recoveries</td>\n",
       "      <td>0.003819</td>\n",
       "    </tr>\n",
       "    <tr>\n",
       "      <th>13</th>\n",
       "      <td>total_rec_late_fee</td>\n",
       "      <td>0.002310</td>\n",
       "    </tr>\n",
       "    <tr>\n",
       "      <th>16</th>\n",
       "      <td>acc_now_delinq</td>\n",
       "      <td>0.000790</td>\n",
       "    </tr>\n",
       "  </tbody>\n",
       "</table>\n",
       "</div>"
      ],
      "text/plain": [
       "          Feature Name  Importance\n",
       "0            loan_amnt    0.204134\n",
       "18         tot_cur_bal    0.098360\n",
       "6                  dti    0.089566\n",
       "8            revol_bal    0.074554\n",
       "11         total_pymnt    0.068828\n",
       "4           annual_inc    0.067109\n",
       "12       total_rec_int    0.060518\n",
       "1                 term    0.060008\n",
       "15     last_pymnt_amnt    0.051159\n",
       "9            total_acc    0.050687\n",
       "10           out_prncp    0.050271\n",
       "2             int_rate    0.048459\n",
       "7             open_acc    0.039059\n",
       "17        tot_coll_amt    0.015227\n",
       "3       home_ownership    0.010639\n",
       "5          loan_status    0.004504\n",
       "14          recoveries    0.003819\n",
       "13  total_rec_late_fee    0.002310\n",
       "16      acc_now_delinq    0.000790"
      ]
     },
     "execution_count": 66,
     "metadata": {},
     "output_type": "execute_result"
    }
   ],
   "source": [
    "#Feature Importance\n",
    "imp_df = pd.DataFrame({\n",
    "    \"Feature Name\": X_train.columns,\n",
    "    \"Importance\": dtree.feature_importances_\n",
    "})\n",
    "fi = imp_df.sort_values(by=\"Importance\", ascending=False)\n",
    "fi"
   ]
  },
  {
   "cell_type": "code",
   "execution_count": 67,
   "id": "02d6fc7f",
   "metadata": {},
   "outputs": [
    {
     "data": {
      "image/png": "[encoded data removed]",
      "text/plain": [
       "<Figure size 720x576 with 1 Axes>"
      ]
     },
     "metadata": {
      "needs_background": "light"
     },
     "output_type": "display_data"
    }
   ],
   "source": [
    "fi2 = fi.head(10)\n",
    "plt.figure(figsize=(10,8))\n",
    "sns.barplot(data=fi2, x='Importance', y='Feature Name')\n",
    "plt.title('Feature Importance Each Attributes (Decision Tree)', fontsize=18)\n",
    "plt.xlabel ('Importance', fontsize=16)\n",
    "plt.ylabel ('Feature Name', fontsize=16)\n",
    "plt.show()"
   ]
  },
  {
   "cell_type": "code",
   "execution_count": null,
   "id": "0111e60e",
   "metadata": {},
   "outputs": [],
   "source": []
  }
 ],
 "metadata": {
  "kernelspec": {
   "display_name": "Python 3 (ipykernel)",
   "language": "python",
   "name": "python3"
  },
  "language_info": {
   "codemirror_mode": {
    "name": "ipython",
    "version": 3
   },
   "file_extension": ".py",
   "mimetype": "text/x-python",
   "name": "python",
   "nbconvert_exporter": "python",
   "pygments_lexer": "ipython3",
   "version": "3.9.12"
  }
 },
 "nbformat": 4,
 "nbformat_minor": 5
}
